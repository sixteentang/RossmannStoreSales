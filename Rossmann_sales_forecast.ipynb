{
 "cells": [
  {
   "cell_type": "markdown",
   "metadata": {},
   "source": [
    "# Rossmann_sales_forecast  \n",
    "\n",
    "### 贺新宇"
   ]
  },
  {
   "cell_type": "code",
   "execution_count": 2,
   "metadata": {
    "collapsed": true
   },
   "outputs": [],
   "source": [
    "# 导入需要的库\n",
    "import numpy as np\n",
    "import pandas as pd\n",
    "import matplotlib.pyplot as plt\n",
    "import seaborn as sns\n",
    "%matplotlib inline\n",
    "import warnings\n",
    "warnings.filterwarnings('ignore')\n",
    "\n",
    "import xgboost as xgb\n",
    "from xgboost.sklearn import XGBRegressor\n",
    "from sklearn import cross_validation\n",
    "from sklearn.grid_search import GridSearchCV\n",
    "from __future__ import division\n",
    "import operator\n",
    "\n",
    "# 用pandas读取数据\n",
    "data1 = pd.read_csv('./data/train.csv')\n",
    "data2 = pd.read_csv('./data/store.csv')\n",
    "data3 = pd.read_csv('./data/test.csv')"
   ]
  },
  {
   "cell_type": "markdown",
   "metadata": {},
   "source": [
    "## 探索数据"
   ]
  },
  {
   "cell_type": "code",
   "execution_count": 3,
   "metadata": {
    "scrolled": true
   },
   "outputs": [
    {
     "data": {
      "text/html": [
       "<div>\n",
       "<style>\n",
       "    .dataframe thead tr:only-child th {\n",
       "        text-align: right;\n",
       "    }\n",
       "\n",
       "    .dataframe thead th {\n",
       "        text-align: left;\n",
       "    }\n",
       "\n",
       "    .dataframe tbody tr th {\n",
       "        vertical-align: top;\n",
       "    }\n",
       "</style>\n",
       "<table border=\"1\" class=\"dataframe\">\n",
       "  <thead>\n",
       "    <tr style=\"text-align: right;\">\n",
       "      <th></th>\n",
       "      <th>Store</th>\n",
       "      <th>DayOfWeek</th>\n",
       "      <th>Date</th>\n",
       "      <th>Sales</th>\n",
       "      <th>Customers</th>\n",
       "      <th>Open</th>\n",
       "      <th>Promo</th>\n",
       "      <th>StateHoliday</th>\n",
       "      <th>SchoolHoliday</th>\n",
       "    </tr>\n",
       "  </thead>\n",
       "  <tbody>\n",
       "    <tr>\n",
       "      <th>0</th>\n",
       "      <td>1</td>\n",
       "      <td>5</td>\n",
       "      <td>2015-07-31</td>\n",
       "      <td>5263</td>\n",
       "      <td>555</td>\n",
       "      <td>1</td>\n",
       "      <td>1</td>\n",
       "      <td>0</td>\n",
       "      <td>1</td>\n",
       "    </tr>\n",
       "    <tr>\n",
       "      <th>1</th>\n",
       "      <td>2</td>\n",
       "      <td>5</td>\n",
       "      <td>2015-07-31</td>\n",
       "      <td>6064</td>\n",
       "      <td>625</td>\n",
       "      <td>1</td>\n",
       "      <td>1</td>\n",
       "      <td>0</td>\n",
       "      <td>1</td>\n",
       "    </tr>\n",
       "    <tr>\n",
       "      <th>2</th>\n",
       "      <td>3</td>\n",
       "      <td>5</td>\n",
       "      <td>2015-07-31</td>\n",
       "      <td>8314</td>\n",
       "      <td>821</td>\n",
       "      <td>1</td>\n",
       "      <td>1</td>\n",
       "      <td>0</td>\n",
       "      <td>1</td>\n",
       "    </tr>\n",
       "    <tr>\n",
       "      <th>3</th>\n",
       "      <td>4</td>\n",
       "      <td>5</td>\n",
       "      <td>2015-07-31</td>\n",
       "      <td>13995</td>\n",
       "      <td>1498</td>\n",
       "      <td>1</td>\n",
       "      <td>1</td>\n",
       "      <td>0</td>\n",
       "      <td>1</td>\n",
       "    </tr>\n",
       "    <tr>\n",
       "      <th>4</th>\n",
       "      <td>5</td>\n",
       "      <td>5</td>\n",
       "      <td>2015-07-31</td>\n",
       "      <td>4822</td>\n",
       "      <td>559</td>\n",
       "      <td>1</td>\n",
       "      <td>1</td>\n",
       "      <td>0</td>\n",
       "      <td>1</td>\n",
       "    </tr>\n",
       "  </tbody>\n",
       "</table>\n",
       "</div>"
      ],
      "text/plain": [
       "   Store  DayOfWeek        Date  Sales  Customers  Open  Promo StateHoliday  \\\n",
       "0      1          5  2015-07-31   5263        555     1      1            0   \n",
       "1      2          5  2015-07-31   6064        625     1      1            0   \n",
       "2      3          5  2015-07-31   8314        821     1      1            0   \n",
       "3      4          5  2015-07-31  13995       1498     1      1            0   \n",
       "4      5          5  2015-07-31   4822        559     1      1            0   \n",
       "\n",
       "   SchoolHoliday  \n",
       "0              1  \n",
       "1              1  \n",
       "2              1  \n",
       "3              1  \n",
       "4              1  "
      ]
     },
     "execution_count": 3,
     "metadata": {},
     "output_type": "execute_result"
    }
   ],
   "source": [
    "data1.head()"
   ]
  },
  {
   "cell_type": "code",
   "execution_count": 4,
   "metadata": {},
   "outputs": [
    {
     "data": {
      "text/html": [
       "<div>\n",
       "<style>\n",
       "    .dataframe thead tr:only-child th {\n",
       "        text-align: right;\n",
       "    }\n",
       "\n",
       "    .dataframe thead th {\n",
       "        text-align: left;\n",
       "    }\n",
       "\n",
       "    .dataframe tbody tr th {\n",
       "        vertical-align: top;\n",
       "    }\n",
       "</style>\n",
       "<table border=\"1\" class=\"dataframe\">\n",
       "  <thead>\n",
       "    <tr style=\"text-align: right;\">\n",
       "      <th></th>\n",
       "      <th>Store</th>\n",
       "      <th>StoreType</th>\n",
       "      <th>Assortment</th>\n",
       "      <th>CompetitionDistance</th>\n",
       "      <th>CompetitionOpenSinceMonth</th>\n",
       "      <th>CompetitionOpenSinceYear</th>\n",
       "      <th>Promo2</th>\n",
       "      <th>Promo2SinceWeek</th>\n",
       "      <th>Promo2SinceYear</th>\n",
       "      <th>PromoInterval</th>\n",
       "    </tr>\n",
       "  </thead>\n",
       "  <tbody>\n",
       "    <tr>\n",
       "      <th>0</th>\n",
       "      <td>1</td>\n",
       "      <td>c</td>\n",
       "      <td>a</td>\n",
       "      <td>1270.0</td>\n",
       "      <td>9.0</td>\n",
       "      <td>2008.0</td>\n",
       "      <td>0</td>\n",
       "      <td>NaN</td>\n",
       "      <td>NaN</td>\n",
       "      <td>NaN</td>\n",
       "    </tr>\n",
       "    <tr>\n",
       "      <th>1</th>\n",
       "      <td>2</td>\n",
       "      <td>a</td>\n",
       "      <td>a</td>\n",
       "      <td>570.0</td>\n",
       "      <td>11.0</td>\n",
       "      <td>2007.0</td>\n",
       "      <td>1</td>\n",
       "      <td>13.0</td>\n",
       "      <td>2010.0</td>\n",
       "      <td>Jan,Apr,Jul,Oct</td>\n",
       "    </tr>\n",
       "    <tr>\n",
       "      <th>2</th>\n",
       "      <td>3</td>\n",
       "      <td>a</td>\n",
       "      <td>a</td>\n",
       "      <td>14130.0</td>\n",
       "      <td>12.0</td>\n",
       "      <td>2006.0</td>\n",
       "      <td>1</td>\n",
       "      <td>14.0</td>\n",
       "      <td>2011.0</td>\n",
       "      <td>Jan,Apr,Jul,Oct</td>\n",
       "    </tr>\n",
       "    <tr>\n",
       "      <th>3</th>\n",
       "      <td>4</td>\n",
       "      <td>c</td>\n",
       "      <td>c</td>\n",
       "      <td>620.0</td>\n",
       "      <td>9.0</td>\n",
       "      <td>2009.0</td>\n",
       "      <td>0</td>\n",
       "      <td>NaN</td>\n",
       "      <td>NaN</td>\n",
       "      <td>NaN</td>\n",
       "    </tr>\n",
       "    <tr>\n",
       "      <th>4</th>\n",
       "      <td>5</td>\n",
       "      <td>a</td>\n",
       "      <td>a</td>\n",
       "      <td>29910.0</td>\n",
       "      <td>4.0</td>\n",
       "      <td>2015.0</td>\n",
       "      <td>0</td>\n",
       "      <td>NaN</td>\n",
       "      <td>NaN</td>\n",
       "      <td>NaN</td>\n",
       "    </tr>\n",
       "  </tbody>\n",
       "</table>\n",
       "</div>"
      ],
      "text/plain": [
       "   Store StoreType Assortment  CompetitionDistance  CompetitionOpenSinceMonth  \\\n",
       "0      1         c          a               1270.0                        9.0   \n",
       "1      2         a          a                570.0                       11.0   \n",
       "2      3         a          a              14130.0                       12.0   \n",
       "3      4         c          c                620.0                        9.0   \n",
       "4      5         a          a              29910.0                        4.0   \n",
       "\n",
       "   CompetitionOpenSinceYear  Promo2  Promo2SinceWeek  Promo2SinceYear  \\\n",
       "0                    2008.0       0              NaN              NaN   \n",
       "1                    2007.0       1             13.0           2010.0   \n",
       "2                    2006.0       1             14.0           2011.0   \n",
       "3                    2009.0       0              NaN              NaN   \n",
       "4                    2015.0       0              NaN              NaN   \n",
       "\n",
       "     PromoInterval  \n",
       "0              NaN  \n",
       "1  Jan,Apr,Jul,Oct  \n",
       "2  Jan,Apr,Jul,Oct  \n",
       "3              NaN  \n",
       "4              NaN  "
      ]
     },
     "execution_count": 4,
     "metadata": {},
     "output_type": "execute_result"
    }
   ],
   "source": [
    "data2.head()"
   ]
  },
  {
   "cell_type": "code",
   "execution_count": 5,
   "metadata": {},
   "outputs": [
    {
     "data": {
      "text/html": [
       "<div>\n",
       "<style>\n",
       "    .dataframe thead tr:only-child th {\n",
       "        text-align: right;\n",
       "    }\n",
       "\n",
       "    .dataframe thead th {\n",
       "        text-align: left;\n",
       "    }\n",
       "\n",
       "    .dataframe tbody tr th {\n",
       "        vertical-align: top;\n",
       "    }\n",
       "</style>\n",
       "<table border=\"1\" class=\"dataframe\">\n",
       "  <thead>\n",
       "    <tr style=\"text-align: right;\">\n",
       "      <th></th>\n",
       "      <th>Id</th>\n",
       "      <th>Store</th>\n",
       "      <th>DayOfWeek</th>\n",
       "      <th>Date</th>\n",
       "      <th>Open</th>\n",
       "      <th>Promo</th>\n",
       "      <th>StateHoliday</th>\n",
       "      <th>SchoolHoliday</th>\n",
       "    </tr>\n",
       "  </thead>\n",
       "  <tbody>\n",
       "    <tr>\n",
       "      <th>0</th>\n",
       "      <td>1</td>\n",
       "      <td>1</td>\n",
       "      <td>4</td>\n",
       "      <td>2015-09-17</td>\n",
       "      <td>1.0</td>\n",
       "      <td>1</td>\n",
       "      <td>0</td>\n",
       "      <td>0</td>\n",
       "    </tr>\n",
       "    <tr>\n",
       "      <th>1</th>\n",
       "      <td>2</td>\n",
       "      <td>3</td>\n",
       "      <td>4</td>\n",
       "      <td>2015-09-17</td>\n",
       "      <td>1.0</td>\n",
       "      <td>1</td>\n",
       "      <td>0</td>\n",
       "      <td>0</td>\n",
       "    </tr>\n",
       "    <tr>\n",
       "      <th>2</th>\n",
       "      <td>3</td>\n",
       "      <td>7</td>\n",
       "      <td>4</td>\n",
       "      <td>2015-09-17</td>\n",
       "      <td>1.0</td>\n",
       "      <td>1</td>\n",
       "      <td>0</td>\n",
       "      <td>0</td>\n",
       "    </tr>\n",
       "    <tr>\n",
       "      <th>3</th>\n",
       "      <td>4</td>\n",
       "      <td>8</td>\n",
       "      <td>4</td>\n",
       "      <td>2015-09-17</td>\n",
       "      <td>1.0</td>\n",
       "      <td>1</td>\n",
       "      <td>0</td>\n",
       "      <td>0</td>\n",
       "    </tr>\n",
       "    <tr>\n",
       "      <th>4</th>\n",
       "      <td>5</td>\n",
       "      <td>9</td>\n",
       "      <td>4</td>\n",
       "      <td>2015-09-17</td>\n",
       "      <td>1.0</td>\n",
       "      <td>1</td>\n",
       "      <td>0</td>\n",
       "      <td>0</td>\n",
       "    </tr>\n",
       "  </tbody>\n",
       "</table>\n",
       "</div>"
      ],
      "text/plain": [
       "   Id  Store  DayOfWeek        Date  Open  Promo StateHoliday  SchoolHoliday\n",
       "0   1      1          4  2015-09-17   1.0      1            0              0\n",
       "1   2      3          4  2015-09-17   1.0      1            0              0\n",
       "2   3      7          4  2015-09-17   1.0      1            0              0\n",
       "3   4      8          4  2015-09-17   1.0      1            0              0\n",
       "4   5      9          4  2015-09-17   1.0      1            0              0"
      ]
     },
     "execution_count": 5,
     "metadata": {},
     "output_type": "execute_result"
    }
   ],
   "source": [
    "data3.head()"
   ]
  },
  {
   "cell_type": "code",
   "execution_count": 6,
   "metadata": {
    "collapsed": true
   },
   "outputs": [],
   "source": [
    "# 合并数据集\n",
    "train_raw = pd.merge(data1, data2, how='left', on='Store')\n",
    "test_raw = pd.merge(data3, data2, how='left', on='Store')"
   ]
  },
  {
   "cell_type": "code",
   "execution_count": 7,
   "metadata": {},
   "outputs": [
    {
     "data": {
      "text/html": [
       "<div>\n",
       "<style>\n",
       "    .dataframe thead tr:only-child th {\n",
       "        text-align: right;\n",
       "    }\n",
       "\n",
       "    .dataframe thead th {\n",
       "        text-align: left;\n",
       "    }\n",
       "\n",
       "    .dataframe tbody tr th {\n",
       "        vertical-align: top;\n",
       "    }\n",
       "</style>\n",
       "<table border=\"1\" class=\"dataframe\">\n",
       "  <thead>\n",
       "    <tr style=\"text-align: right;\">\n",
       "      <th></th>\n",
       "      <th>Store</th>\n",
       "      <th>DayOfWeek</th>\n",
       "      <th>Date</th>\n",
       "      <th>Sales</th>\n",
       "      <th>Customers</th>\n",
       "      <th>Open</th>\n",
       "      <th>Promo</th>\n",
       "      <th>StateHoliday</th>\n",
       "      <th>SchoolHoliday</th>\n",
       "      <th>StoreType</th>\n",
       "      <th>Assortment</th>\n",
       "      <th>CompetitionDistance</th>\n",
       "      <th>CompetitionOpenSinceMonth</th>\n",
       "      <th>CompetitionOpenSinceYear</th>\n",
       "      <th>Promo2</th>\n",
       "      <th>Promo2SinceWeek</th>\n",
       "      <th>Promo2SinceYear</th>\n",
       "      <th>PromoInterval</th>\n",
       "    </tr>\n",
       "  </thead>\n",
       "  <tbody>\n",
       "    <tr>\n",
       "      <th>0</th>\n",
       "      <td>1</td>\n",
       "      <td>5</td>\n",
       "      <td>2015-07-31</td>\n",
       "      <td>5263</td>\n",
       "      <td>555</td>\n",
       "      <td>1</td>\n",
       "      <td>1</td>\n",
       "      <td>0</td>\n",
       "      <td>1</td>\n",
       "      <td>c</td>\n",
       "      <td>a</td>\n",
       "      <td>1270.0</td>\n",
       "      <td>9.0</td>\n",
       "      <td>2008.0</td>\n",
       "      <td>0</td>\n",
       "      <td>NaN</td>\n",
       "      <td>NaN</td>\n",
       "      <td>NaN</td>\n",
       "    </tr>\n",
       "    <tr>\n",
       "      <th>1</th>\n",
       "      <td>2</td>\n",
       "      <td>5</td>\n",
       "      <td>2015-07-31</td>\n",
       "      <td>6064</td>\n",
       "      <td>625</td>\n",
       "      <td>1</td>\n",
       "      <td>1</td>\n",
       "      <td>0</td>\n",
       "      <td>1</td>\n",
       "      <td>a</td>\n",
       "      <td>a</td>\n",
       "      <td>570.0</td>\n",
       "      <td>11.0</td>\n",
       "      <td>2007.0</td>\n",
       "      <td>1</td>\n",
       "      <td>13.0</td>\n",
       "      <td>2010.0</td>\n",
       "      <td>Jan,Apr,Jul,Oct</td>\n",
       "    </tr>\n",
       "    <tr>\n",
       "      <th>2</th>\n",
       "      <td>3</td>\n",
       "      <td>5</td>\n",
       "      <td>2015-07-31</td>\n",
       "      <td>8314</td>\n",
       "      <td>821</td>\n",
       "      <td>1</td>\n",
       "      <td>1</td>\n",
       "      <td>0</td>\n",
       "      <td>1</td>\n",
       "      <td>a</td>\n",
       "      <td>a</td>\n",
       "      <td>14130.0</td>\n",
       "      <td>12.0</td>\n",
       "      <td>2006.0</td>\n",
       "      <td>1</td>\n",
       "      <td>14.0</td>\n",
       "      <td>2011.0</td>\n",
       "      <td>Jan,Apr,Jul,Oct</td>\n",
       "    </tr>\n",
       "    <tr>\n",
       "      <th>3</th>\n",
       "      <td>4</td>\n",
       "      <td>5</td>\n",
       "      <td>2015-07-31</td>\n",
       "      <td>13995</td>\n",
       "      <td>1498</td>\n",
       "      <td>1</td>\n",
       "      <td>1</td>\n",
       "      <td>0</td>\n",
       "      <td>1</td>\n",
       "      <td>c</td>\n",
       "      <td>c</td>\n",
       "      <td>620.0</td>\n",
       "      <td>9.0</td>\n",
       "      <td>2009.0</td>\n",
       "      <td>0</td>\n",
       "      <td>NaN</td>\n",
       "      <td>NaN</td>\n",
       "      <td>NaN</td>\n",
       "    </tr>\n",
       "    <tr>\n",
       "      <th>4</th>\n",
       "      <td>5</td>\n",
       "      <td>5</td>\n",
       "      <td>2015-07-31</td>\n",
       "      <td>4822</td>\n",
       "      <td>559</td>\n",
       "      <td>1</td>\n",
       "      <td>1</td>\n",
       "      <td>0</td>\n",
       "      <td>1</td>\n",
       "      <td>a</td>\n",
       "      <td>a</td>\n",
       "      <td>29910.0</td>\n",
       "      <td>4.0</td>\n",
       "      <td>2015.0</td>\n",
       "      <td>0</td>\n",
       "      <td>NaN</td>\n",
       "      <td>NaN</td>\n",
       "      <td>NaN</td>\n",
       "    </tr>\n",
       "  </tbody>\n",
       "</table>\n",
       "</div>"
      ],
      "text/plain": [
       "   Store  DayOfWeek        Date  Sales  Customers  Open  Promo StateHoliday  \\\n",
       "0      1          5  2015-07-31   5263        555     1      1            0   \n",
       "1      2          5  2015-07-31   6064        625     1      1            0   \n",
       "2      3          5  2015-07-31   8314        821     1      1            0   \n",
       "3      4          5  2015-07-31  13995       1498     1      1            0   \n",
       "4      5          5  2015-07-31   4822        559     1      1            0   \n",
       "\n",
       "   SchoolHoliday StoreType Assortment  CompetitionDistance  \\\n",
       "0              1         c          a               1270.0   \n",
       "1              1         a          a                570.0   \n",
       "2              1         a          a              14130.0   \n",
       "3              1         c          c                620.0   \n",
       "4              1         a          a              29910.0   \n",
       "\n",
       "   CompetitionOpenSinceMonth  CompetitionOpenSinceYear  Promo2  \\\n",
       "0                        9.0                    2008.0       0   \n",
       "1                       11.0                    2007.0       1   \n",
       "2                       12.0                    2006.0       1   \n",
       "3                        9.0                    2009.0       0   \n",
       "4                        4.0                    2015.0       0   \n",
       "\n",
       "   Promo2SinceWeek  Promo2SinceYear    PromoInterval  \n",
       "0              NaN              NaN              NaN  \n",
       "1             13.0           2010.0  Jan,Apr,Jul,Oct  \n",
       "2             14.0           2011.0  Jan,Apr,Jul,Oct  \n",
       "3              NaN              NaN              NaN  \n",
       "4              NaN              NaN              NaN  "
      ]
     },
     "execution_count": 7,
     "metadata": {},
     "output_type": "execute_result"
    }
   ],
   "source": [
    "train_raw.head()"
   ]
  },
  {
   "cell_type": "code",
   "execution_count": 8,
   "metadata": {},
   "outputs": [
    {
     "data": {
      "text/html": [
       "<div>\n",
       "<style>\n",
       "    .dataframe thead tr:only-child th {\n",
       "        text-align: right;\n",
       "    }\n",
       "\n",
       "    .dataframe thead th {\n",
       "        text-align: left;\n",
       "    }\n",
       "\n",
       "    .dataframe tbody tr th {\n",
       "        vertical-align: top;\n",
       "    }\n",
       "</style>\n",
       "<table border=\"1\" class=\"dataframe\">\n",
       "  <thead>\n",
       "    <tr style=\"text-align: right;\">\n",
       "      <th></th>\n",
       "      <th>Id</th>\n",
       "      <th>Store</th>\n",
       "      <th>DayOfWeek</th>\n",
       "      <th>Date</th>\n",
       "      <th>Open</th>\n",
       "      <th>Promo</th>\n",
       "      <th>StateHoliday</th>\n",
       "      <th>SchoolHoliday</th>\n",
       "      <th>StoreType</th>\n",
       "      <th>Assortment</th>\n",
       "      <th>CompetitionDistance</th>\n",
       "      <th>CompetitionOpenSinceMonth</th>\n",
       "      <th>CompetitionOpenSinceYear</th>\n",
       "      <th>Promo2</th>\n",
       "      <th>Promo2SinceWeek</th>\n",
       "      <th>Promo2SinceYear</th>\n",
       "      <th>PromoInterval</th>\n",
       "    </tr>\n",
       "  </thead>\n",
       "  <tbody>\n",
       "    <tr>\n",
       "      <th>0</th>\n",
       "      <td>1</td>\n",
       "      <td>1</td>\n",
       "      <td>4</td>\n",
       "      <td>2015-09-17</td>\n",
       "      <td>1.0</td>\n",
       "      <td>1</td>\n",
       "      <td>0</td>\n",
       "      <td>0</td>\n",
       "      <td>c</td>\n",
       "      <td>a</td>\n",
       "      <td>1270.0</td>\n",
       "      <td>9.0</td>\n",
       "      <td>2008.0</td>\n",
       "      <td>0</td>\n",
       "      <td>NaN</td>\n",
       "      <td>NaN</td>\n",
       "      <td>NaN</td>\n",
       "    </tr>\n",
       "    <tr>\n",
       "      <th>1</th>\n",
       "      <td>2</td>\n",
       "      <td>3</td>\n",
       "      <td>4</td>\n",
       "      <td>2015-09-17</td>\n",
       "      <td>1.0</td>\n",
       "      <td>1</td>\n",
       "      <td>0</td>\n",
       "      <td>0</td>\n",
       "      <td>a</td>\n",
       "      <td>a</td>\n",
       "      <td>14130.0</td>\n",
       "      <td>12.0</td>\n",
       "      <td>2006.0</td>\n",
       "      <td>1</td>\n",
       "      <td>14.0</td>\n",
       "      <td>2011.0</td>\n",
       "      <td>Jan,Apr,Jul,Oct</td>\n",
       "    </tr>\n",
       "    <tr>\n",
       "      <th>2</th>\n",
       "      <td>3</td>\n",
       "      <td>7</td>\n",
       "      <td>4</td>\n",
       "      <td>2015-09-17</td>\n",
       "      <td>1.0</td>\n",
       "      <td>1</td>\n",
       "      <td>0</td>\n",
       "      <td>0</td>\n",
       "      <td>a</td>\n",
       "      <td>c</td>\n",
       "      <td>24000.0</td>\n",
       "      <td>4.0</td>\n",
       "      <td>2013.0</td>\n",
       "      <td>0</td>\n",
       "      <td>NaN</td>\n",
       "      <td>NaN</td>\n",
       "      <td>NaN</td>\n",
       "    </tr>\n",
       "    <tr>\n",
       "      <th>3</th>\n",
       "      <td>4</td>\n",
       "      <td>8</td>\n",
       "      <td>4</td>\n",
       "      <td>2015-09-17</td>\n",
       "      <td>1.0</td>\n",
       "      <td>1</td>\n",
       "      <td>0</td>\n",
       "      <td>0</td>\n",
       "      <td>a</td>\n",
       "      <td>a</td>\n",
       "      <td>7520.0</td>\n",
       "      <td>10.0</td>\n",
       "      <td>2014.0</td>\n",
       "      <td>0</td>\n",
       "      <td>NaN</td>\n",
       "      <td>NaN</td>\n",
       "      <td>NaN</td>\n",
       "    </tr>\n",
       "    <tr>\n",
       "      <th>4</th>\n",
       "      <td>5</td>\n",
       "      <td>9</td>\n",
       "      <td>4</td>\n",
       "      <td>2015-09-17</td>\n",
       "      <td>1.0</td>\n",
       "      <td>1</td>\n",
       "      <td>0</td>\n",
       "      <td>0</td>\n",
       "      <td>a</td>\n",
       "      <td>c</td>\n",
       "      <td>2030.0</td>\n",
       "      <td>8.0</td>\n",
       "      <td>2000.0</td>\n",
       "      <td>0</td>\n",
       "      <td>NaN</td>\n",
       "      <td>NaN</td>\n",
       "      <td>NaN</td>\n",
       "    </tr>\n",
       "  </tbody>\n",
       "</table>\n",
       "</div>"
      ],
      "text/plain": [
       "   Id  Store  DayOfWeek        Date  Open  Promo StateHoliday  SchoolHoliday  \\\n",
       "0   1      1          4  2015-09-17   1.0      1            0              0   \n",
       "1   2      3          4  2015-09-17   1.0      1            0              0   \n",
       "2   3      7          4  2015-09-17   1.0      1            0              0   \n",
       "3   4      8          4  2015-09-17   1.0      1            0              0   \n",
       "4   5      9          4  2015-09-17   1.0      1            0              0   \n",
       "\n",
       "  StoreType Assortment  CompetitionDistance  CompetitionOpenSinceMonth  \\\n",
       "0         c          a               1270.0                        9.0   \n",
       "1         a          a              14130.0                       12.0   \n",
       "2         a          c              24000.0                        4.0   \n",
       "3         a          a               7520.0                       10.0   \n",
       "4         a          c               2030.0                        8.0   \n",
       "\n",
       "   CompetitionOpenSinceYear  Promo2  Promo2SinceWeek  Promo2SinceYear  \\\n",
       "0                    2008.0       0              NaN              NaN   \n",
       "1                    2006.0       1             14.0           2011.0   \n",
       "2                    2013.0       0              NaN              NaN   \n",
       "3                    2014.0       0              NaN              NaN   \n",
       "4                    2000.0       0              NaN              NaN   \n",
       "\n",
       "     PromoInterval  \n",
       "0              NaN  \n",
       "1  Jan,Apr,Jul,Oct  \n",
       "2              NaN  \n",
       "3              NaN  \n",
       "4              NaN  "
      ]
     },
     "execution_count": 8,
     "metadata": {},
     "output_type": "execute_result"
    }
   ],
   "source": [
    "test_raw.head()"
   ]
  },
  {
   "cell_type": "code",
   "execution_count": 9,
   "metadata": {},
   "outputs": [
    {
     "name": "stdout",
     "output_type": "stream",
     "text": [
      "<class 'pandas.core.frame.DataFrame'>\n",
      "Int64Index: 1017209 entries, 0 to 1017208\n",
      "Data columns (total 18 columns):\n",
      "Store                        1017209 non-null int64\n",
      "DayOfWeek                    1017209 non-null int64\n",
      "Date                         1017209 non-null object\n",
      "Sales                        1017209 non-null int64\n",
      "Customers                    1017209 non-null int64\n",
      "Open                         1017209 non-null int64\n",
      "Promo                        1017209 non-null int64\n",
      "StateHoliday                 1017209 non-null object\n",
      "SchoolHoliday                1017209 non-null int64\n",
      "StoreType                    1017209 non-null object\n",
      "Assortment                   1017209 non-null object\n",
      "CompetitionDistance          1014567 non-null float64\n",
      "CompetitionOpenSinceMonth    693861 non-null float64\n",
      "CompetitionOpenSinceYear     693861 non-null float64\n",
      "Promo2                       1017209 non-null int64\n",
      "Promo2SinceWeek              509178 non-null float64\n",
      "Promo2SinceYear              509178 non-null float64\n",
      "PromoInterval                509178 non-null object\n",
      "dtypes: float64(5), int64(8), object(5)\n",
      "memory usage: 147.5+ MB\n",
      "--------------------------------\n",
      "<class 'pandas.core.frame.DataFrame'>\n",
      "Int64Index: 41088 entries, 0 to 41087\n",
      "Data columns (total 17 columns):\n",
      "Id                           41088 non-null int64\n",
      "Store                        41088 non-null int64\n",
      "DayOfWeek                    41088 non-null int64\n",
      "Date                         41088 non-null object\n",
      "Open                         41077 non-null float64\n",
      "Promo                        41088 non-null int64\n",
      "StateHoliday                 41088 non-null object\n",
      "SchoolHoliday                41088 non-null int64\n",
      "StoreType                    41088 non-null object\n",
      "Assortment                   41088 non-null object\n",
      "CompetitionDistance          40992 non-null float64\n",
      "CompetitionOpenSinceMonth    25872 non-null float64\n",
      "CompetitionOpenSinceYear     25872 non-null float64\n",
      "Promo2                       41088 non-null int64\n",
      "Promo2SinceWeek              23856 non-null float64\n",
      "Promo2SinceYear              23856 non-null float64\n",
      "PromoInterval                23856 non-null object\n",
      "dtypes: float64(6), int64(6), object(5)\n",
      "memory usage: 5.6+ MB\n"
     ]
    }
   ],
   "source": [
    "train_raw.info()\n",
    "print(\"--------------------------------\")\n",
    "test_raw.info()"
   ]
  },
  {
   "cell_type": "code",
   "execution_count": 10,
   "metadata": {},
   "outputs": [
    {
     "data": {
      "text/html": [
       "<div>\n",
       "<style>\n",
       "    .dataframe thead tr:only-child th {\n",
       "        text-align: right;\n",
       "    }\n",
       "\n",
       "    .dataframe thead th {\n",
       "        text-align: left;\n",
       "    }\n",
       "\n",
       "    .dataframe tbody tr th {\n",
       "        vertical-align: top;\n",
       "    }\n",
       "</style>\n",
       "<table border=\"1\" class=\"dataframe\">\n",
       "  <thead>\n",
       "    <tr style=\"text-align: right;\">\n",
       "      <th></th>\n",
       "      <th>Store</th>\n",
       "      <th>DayOfWeek</th>\n",
       "      <th>Sales</th>\n",
       "      <th>Customers</th>\n",
       "      <th>Open</th>\n",
       "      <th>Promo</th>\n",
       "      <th>SchoolHoliday</th>\n",
       "      <th>CompetitionDistance</th>\n",
       "      <th>CompetitionOpenSinceMonth</th>\n",
       "      <th>CompetitionOpenSinceYear</th>\n",
       "      <th>Promo2</th>\n",
       "      <th>Promo2SinceWeek</th>\n",
       "      <th>Promo2SinceYear</th>\n",
       "    </tr>\n",
       "  </thead>\n",
       "  <tbody>\n",
       "    <tr>\n",
       "      <th>count</th>\n",
       "      <td>1.017209e+06</td>\n",
       "      <td>1.017209e+06</td>\n",
       "      <td>1.017209e+06</td>\n",
       "      <td>1.017209e+06</td>\n",
       "      <td>1.017209e+06</td>\n",
       "      <td>1.017209e+06</td>\n",
       "      <td>1.017209e+06</td>\n",
       "      <td>1.014567e+06</td>\n",
       "      <td>693861.000000</td>\n",
       "      <td>693861.000000</td>\n",
       "      <td>1.017209e+06</td>\n",
       "      <td>509178.000000</td>\n",
       "      <td>509178.000000</td>\n",
       "    </tr>\n",
       "    <tr>\n",
       "      <th>mean</th>\n",
       "      <td>5.584297e+02</td>\n",
       "      <td>3.998341e+00</td>\n",
       "      <td>5.773819e+03</td>\n",
       "      <td>6.331459e+02</td>\n",
       "      <td>8.301067e-01</td>\n",
       "      <td>3.815145e-01</td>\n",
       "      <td>1.786467e-01</td>\n",
       "      <td>5.430086e+03</td>\n",
       "      <td>7.222866</td>\n",
       "      <td>2008.690228</td>\n",
       "      <td>5.005638e-01</td>\n",
       "      <td>23.269093</td>\n",
       "      <td>2011.752774</td>\n",
       "    </tr>\n",
       "    <tr>\n",
       "      <th>std</th>\n",
       "      <td>3.219087e+02</td>\n",
       "      <td>1.997391e+00</td>\n",
       "      <td>3.849926e+03</td>\n",
       "      <td>4.644117e+02</td>\n",
       "      <td>3.755392e-01</td>\n",
       "      <td>4.857586e-01</td>\n",
       "      <td>3.830564e-01</td>\n",
       "      <td>7.715324e+03</td>\n",
       "      <td>3.211832</td>\n",
       "      <td>5.992644</td>\n",
       "      <td>4.999999e-01</td>\n",
       "      <td>14.095973</td>\n",
       "      <td>1.662870</td>\n",
       "    </tr>\n",
       "    <tr>\n",
       "      <th>min</th>\n",
       "      <td>1.000000e+00</td>\n",
       "      <td>1.000000e+00</td>\n",
       "      <td>0.000000e+00</td>\n",
       "      <td>0.000000e+00</td>\n",
       "      <td>0.000000e+00</td>\n",
       "      <td>0.000000e+00</td>\n",
       "      <td>0.000000e+00</td>\n",
       "      <td>2.000000e+01</td>\n",
       "      <td>1.000000</td>\n",
       "      <td>1900.000000</td>\n",
       "      <td>0.000000e+00</td>\n",
       "      <td>1.000000</td>\n",
       "      <td>2009.000000</td>\n",
       "    </tr>\n",
       "    <tr>\n",
       "      <th>25%</th>\n",
       "      <td>2.800000e+02</td>\n",
       "      <td>2.000000e+00</td>\n",
       "      <td>3.727000e+03</td>\n",
       "      <td>4.050000e+02</td>\n",
       "      <td>1.000000e+00</td>\n",
       "      <td>0.000000e+00</td>\n",
       "      <td>0.000000e+00</td>\n",
       "      <td>7.100000e+02</td>\n",
       "      <td>4.000000</td>\n",
       "      <td>2006.000000</td>\n",
       "      <td>0.000000e+00</td>\n",
       "      <td>13.000000</td>\n",
       "      <td>2011.000000</td>\n",
       "    </tr>\n",
       "    <tr>\n",
       "      <th>50%</th>\n",
       "      <td>5.580000e+02</td>\n",
       "      <td>4.000000e+00</td>\n",
       "      <td>5.744000e+03</td>\n",
       "      <td>6.090000e+02</td>\n",
       "      <td>1.000000e+00</td>\n",
       "      <td>0.000000e+00</td>\n",
       "      <td>0.000000e+00</td>\n",
       "      <td>2.330000e+03</td>\n",
       "      <td>8.000000</td>\n",
       "      <td>2010.000000</td>\n",
       "      <td>1.000000e+00</td>\n",
       "      <td>22.000000</td>\n",
       "      <td>2012.000000</td>\n",
       "    </tr>\n",
       "    <tr>\n",
       "      <th>75%</th>\n",
       "      <td>8.380000e+02</td>\n",
       "      <td>6.000000e+00</td>\n",
       "      <td>7.856000e+03</td>\n",
       "      <td>8.370000e+02</td>\n",
       "      <td>1.000000e+00</td>\n",
       "      <td>1.000000e+00</td>\n",
       "      <td>0.000000e+00</td>\n",
       "      <td>6.890000e+03</td>\n",
       "      <td>10.000000</td>\n",
       "      <td>2013.000000</td>\n",
       "      <td>1.000000e+00</td>\n",
       "      <td>37.000000</td>\n",
       "      <td>2013.000000</td>\n",
       "    </tr>\n",
       "    <tr>\n",
       "      <th>max</th>\n",
       "      <td>1.115000e+03</td>\n",
       "      <td>7.000000e+00</td>\n",
       "      <td>4.155100e+04</td>\n",
       "      <td>7.388000e+03</td>\n",
       "      <td>1.000000e+00</td>\n",
       "      <td>1.000000e+00</td>\n",
       "      <td>1.000000e+00</td>\n",
       "      <td>7.586000e+04</td>\n",
       "      <td>12.000000</td>\n",
       "      <td>2015.000000</td>\n",
       "      <td>1.000000e+00</td>\n",
       "      <td>50.000000</td>\n",
       "      <td>2015.000000</td>\n",
       "    </tr>\n",
       "  </tbody>\n",
       "</table>\n",
       "</div>"
      ],
      "text/plain": [
       "              Store     DayOfWeek         Sales     Customers          Open  \\\n",
       "count  1.017209e+06  1.017209e+06  1.017209e+06  1.017209e+06  1.017209e+06   \n",
       "mean   5.584297e+02  3.998341e+00  5.773819e+03  6.331459e+02  8.301067e-01   \n",
       "std    3.219087e+02  1.997391e+00  3.849926e+03  4.644117e+02  3.755392e-01   \n",
       "min    1.000000e+00  1.000000e+00  0.000000e+00  0.000000e+00  0.000000e+00   \n",
       "25%    2.800000e+02  2.000000e+00  3.727000e+03  4.050000e+02  1.000000e+00   \n",
       "50%    5.580000e+02  4.000000e+00  5.744000e+03  6.090000e+02  1.000000e+00   \n",
       "75%    8.380000e+02  6.000000e+00  7.856000e+03  8.370000e+02  1.000000e+00   \n",
       "max    1.115000e+03  7.000000e+00  4.155100e+04  7.388000e+03  1.000000e+00   \n",
       "\n",
       "              Promo  SchoolHoliday  CompetitionDistance  \\\n",
       "count  1.017209e+06   1.017209e+06         1.014567e+06   \n",
       "mean   3.815145e-01   1.786467e-01         5.430086e+03   \n",
       "std    4.857586e-01   3.830564e-01         7.715324e+03   \n",
       "min    0.000000e+00   0.000000e+00         2.000000e+01   \n",
       "25%    0.000000e+00   0.000000e+00         7.100000e+02   \n",
       "50%    0.000000e+00   0.000000e+00         2.330000e+03   \n",
       "75%    1.000000e+00   0.000000e+00         6.890000e+03   \n",
       "max    1.000000e+00   1.000000e+00         7.586000e+04   \n",
       "\n",
       "       CompetitionOpenSinceMonth  CompetitionOpenSinceYear        Promo2  \\\n",
       "count              693861.000000             693861.000000  1.017209e+06   \n",
       "mean                    7.222866               2008.690228  5.005638e-01   \n",
       "std                     3.211832                  5.992644  4.999999e-01   \n",
       "min                     1.000000               1900.000000  0.000000e+00   \n",
       "25%                     4.000000               2006.000000  0.000000e+00   \n",
       "50%                     8.000000               2010.000000  1.000000e+00   \n",
       "75%                    10.000000               2013.000000  1.000000e+00   \n",
       "max                    12.000000               2015.000000  1.000000e+00   \n",
       "\n",
       "       Promo2SinceWeek  Promo2SinceYear  \n",
       "count    509178.000000    509178.000000  \n",
       "mean         23.269093      2011.752774  \n",
       "std          14.095973         1.662870  \n",
       "min           1.000000      2009.000000  \n",
       "25%          13.000000      2011.000000  \n",
       "50%          22.000000      2012.000000  \n",
       "75%          37.000000      2013.000000  \n",
       "max          50.000000      2015.000000  "
      ]
     },
     "execution_count": 10,
     "metadata": {},
     "output_type": "execute_result"
    }
   ],
   "source": [
    "train_raw.describe()"
   ]
  },
  {
   "cell_type": "markdown",
   "metadata": {},
   "source": [
    "宏观地对数据集进行探索、观察，发现一些问题：  \n",
    "一是数据类型的问题：需要对一些列进行格式转换和独热编码。  \n",
    "二是缺失值的问题：store数据集和test数据集均有缺失值的情况。    \n",
    "三是训练集和测试集特征不一致的问题：测试集相比训练集少了一个Customers特征。  \n",
    "四是特征选择的问题，需要筛选出对预测最有用的特征。"
   ]
  },
  {
   "cell_type": "markdown",
   "metadata": {
    "collapsed": true
   },
   "source": [
    "## 初级可视化和数据预处理  \n",
    "依次对每个变量（列）进行探索性数据分析？"
   ]
  },
  {
   "cell_type": "code",
   "execution_count": 11,
   "metadata": {},
   "outputs": [
    {
     "data": {
      "text/plain": [
       "<matplotlib.axes._subplots.AxesSubplot at 0xf170978>"
      ]
     },
     "execution_count": 11,
     "metadata": {},
     "output_type": "execute_result"
    },
    {
     "data": {
      "image/png": "[encoded data removed]",
      "text/plain": [
       "<matplotlib.figure.Figure at 0xf196710>"
      ]
     },
     "metadata": {},
     "output_type": "display_data"
    }
   ],
   "source": [
    "# 1、DayOfWeek\n",
    "# 一周每天的平均销量\n",
    "sns.set_style('whitegrid')\n",
    "sns.barplot(x='DayOfWeek', y='Sales', data=train_raw)"
   ]
  },
  {
   "cell_type": "code",
   "execution_count": 12,
   "metadata": {
    "collapsed": true
   },
   "outputs": [],
   "source": [
    "# 2、Date\n",
    "# 原数据中Date是字符串，首先转换为pandas的时间格式\n",
    "train_raw['Date'] = pd.to_datetime(train_raw['Date'])\n",
    "test_raw['Date'] = pd.to_datetime(test_raw['Date'])"
   ]
  },
  {
   "cell_type": "code",
   "execution_count": 13,
   "metadata": {},
   "outputs": [
    {
     "data": {
      "text/plain": [
       "[<matplotlib.lines.Line2D at 0xc4bf518>]"
      ]
     },
     "execution_count": 13,
     "metadata": {},
     "output_type": "execute_result"
    },
    {
     "data": {
      "image/png": "[encoded data removed]",
      "text/plain": [
       "<matplotlib.figure.Figure at 0xf14fba8>"
      ]
     },
     "metadata": {},
     "output_type": "display_data"
    }
   ],
   "source": [
    "# 查看时间列的连续性\n",
    "plt.plot(train_raw.index,train_raw['Date'])"
   ]
  },
  {
   "cell_type": "code",
   "execution_count": 14,
   "metadata": {},
   "outputs": [
    {
     "data": {
      "text/plain": [
       "[<matplotlib.lines.Line2D at 0xfd307b8>]"
      ]
     },
     "execution_count": 14,
     "metadata": {},
     "output_type": "execute_result"
    },
    {
     "data": {
      "image/png": "[encoded data removed]",
      "text/plain": [
       "<matplotlib.figure.Figure at 0x111ccac8>"
      ]
     },
     "metadata": {},
     "output_type": "display_data"
    }
   ],
   "source": [
    "plt.plot(test_raw.index,test_raw['Date'])"
   ]
  },
  {
   "cell_type": "code",
   "execution_count": 15,
   "metadata": {},
   "outputs": [
    {
     "data": {
      "text/plain": [
       "[<matplotlib.lines.Line2D at 0xfbdbf28>]"
      ]
     },
     "execution_count": 15,
     "metadata": {},
     "output_type": "execute_result"
    },
    {
     "data": {
      "image/png": "[encoded data removed]",
      "text/plain": [
       "<matplotlib.figure.Figure at 0xfbc6748>"
      ]
     },
     "metadata": {},
     "output_type": "display_data"
    }
   ],
   "source": [
    "# 查看每天的销量趋势变化\n",
    "plt.plot(train_raw['Date'],train_raw['Sales'])"
   ]
  },
  {
   "cell_type": "code",
   "execution_count": 16,
   "metadata": {},
   "outputs": [
    {
     "data": {
      "text/plain": [
       "<matplotlib.axes._subplots.AxesSubplot at 0xfe4d0f0>"
      ]
     },
     "execution_count": 16,
     "metadata": {},
     "output_type": "execute_result"
    },
    {
     "data": {
      "image/png": "[encoded data removed]",
      "text/plain": [
       "<matplotlib.figure.Figure at 0x12c37390>"
      ]
     },
     "metadata": {},
     "output_type": "display_data"
    }
   ],
   "source": [
    "# 上图噪音较多不易观察，先转换为每月平均销量看趋势变化\n",
    "# 按月平均销量看销量趋势\n",
    "index = train_raw['Date']\n",
    "temp = train_raw['Sales']\n",
    "temp.index = index\n",
    "temp = temp.to_period('M')\n",
    "temp1 = temp.groupby(level=0).mean()\n",
    "temp1.plot()"
   ]
  },
  {
   "cell_type": "code",
   "execution_count": 17,
   "metadata": {
    "collapsed": true
   },
   "outputs": [],
   "source": [
    "# 由上图可见销量随时间呈现一定规律性趋势。\n",
    "# 提取Date列中的各独立特征并加入数据集\n",
    "train_raw['Year'] = train_raw.Date.dt.year\n",
    "train_raw['MonthofYear'] = train_raw.Date.dt.month\n",
    "train_raw['WeekofYear'] = train_raw.Date.dt.weekofyear\n",
    "train_raw['DayofMonth'] = train_raw.Date.dt.day\n",
    "test_raw['Year'] = test_raw.Date.dt.year\n",
    "test_raw['MonthofYear'] = test_raw.Date.dt.month\n",
    "test_raw['WeekofYear'] = test_raw.Date.dt.weekofyear\n",
    "test_raw['DayofMonth'] = test_raw.Date.dt.day"
   ]
  },
  {
   "cell_type": "code",
   "execution_count": 18,
   "metadata": {},
   "outputs": [
    {
     "data": {
      "text/plain": [
       "<matplotlib.axes._subplots.AxesSubplot at 0x12e9d048>"
      ]
     },
     "execution_count": 18,
     "metadata": {},
     "output_type": "execute_result"
    },
    {
     "data": {
      "image/png": "[encoded data removed]",
      "text/plain": [
       "<matplotlib.figure.Figure at 0x12c4d160>"
      ]
     },
     "metadata": {},
     "output_type": "display_data"
    }
   ],
   "source": [
    "# 3、Sales\n",
    "sns.distplot(train_raw['Sales'], kde=False)"
   ]
  },
  {
   "cell_type": "code",
   "execution_count": 19,
   "metadata": {
    "collapsed": true
   },
   "outputs": [],
   "source": [
    "# 进行log转换\n",
    "train_raw['Sales'] = train_raw['Sales'].apply(lambda x:np.log(x+1))"
   ]
  },
  {
   "cell_type": "code",
   "execution_count": 20,
   "metadata": {
    "scrolled": true
   },
   "outputs": [
    {
     "data": {
      "text/html": [
       "<div>\n",
       "<style>\n",
       "    .dataframe thead tr:only-child th {\n",
       "        text-align: right;\n",
       "    }\n",
       "\n",
       "    .dataframe thead th {\n",
       "        text-align: left;\n",
       "    }\n",
       "\n",
       "    .dataframe tbody tr th {\n",
       "        vertical-align: top;\n",
       "    }\n",
       "</style>\n",
       "<table border=\"1\" class=\"dataframe\">\n",
       "  <thead>\n",
       "    <tr style=\"text-align: right;\">\n",
       "      <th></th>\n",
       "      <th>Id</th>\n",
       "      <th>Store</th>\n",
       "      <th>DayOfWeek</th>\n",
       "      <th>Date</th>\n",
       "      <th>Open</th>\n",
       "      <th>Promo</th>\n",
       "      <th>StateHoliday</th>\n",
       "      <th>SchoolHoliday</th>\n",
       "      <th>StoreType</th>\n",
       "      <th>Assortment</th>\n",
       "      <th>...</th>\n",
       "      <th>CompetitionOpenSinceMonth</th>\n",
       "      <th>CompetitionOpenSinceYear</th>\n",
       "      <th>Promo2</th>\n",
       "      <th>Promo2SinceWeek</th>\n",
       "      <th>Promo2SinceYear</th>\n",
       "      <th>PromoInterval</th>\n",
       "      <th>Year</th>\n",
       "      <th>MonthofYear</th>\n",
       "      <th>WeekofYear</th>\n",
       "      <th>DayofMonth</th>\n",
       "    </tr>\n",
       "  </thead>\n",
       "  <tbody>\n",
       "    <tr>\n",
       "      <th>479</th>\n",
       "      <td>480</td>\n",
       "      <td>622</td>\n",
       "      <td>4</td>\n",
       "      <td>2015-09-17</td>\n",
       "      <td>NaN</td>\n",
       "      <td>1</td>\n",
       "      <td>0</td>\n",
       "      <td>0</td>\n",
       "      <td>a</td>\n",
       "      <td>c</td>\n",
       "      <td>...</td>\n",
       "      <td>NaN</td>\n",
       "      <td>NaN</td>\n",
       "      <td>0</td>\n",
       "      <td>NaN</td>\n",
       "      <td>NaN</td>\n",
       "      <td>NaN</td>\n",
       "      <td>2015</td>\n",
       "      <td>9</td>\n",
       "      <td>38</td>\n",
       "      <td>17</td>\n",
       "    </tr>\n",
       "    <tr>\n",
       "      <th>1335</th>\n",
       "      <td>1336</td>\n",
       "      <td>622</td>\n",
       "      <td>3</td>\n",
       "      <td>2015-09-16</td>\n",
       "      <td>NaN</td>\n",
       "      <td>1</td>\n",
       "      <td>0</td>\n",
       "      <td>0</td>\n",
       "      <td>a</td>\n",
       "      <td>c</td>\n",
       "      <td>...</td>\n",
       "      <td>NaN</td>\n",
       "      <td>NaN</td>\n",
       "      <td>0</td>\n",
       "      <td>NaN</td>\n",
       "      <td>NaN</td>\n",
       "      <td>NaN</td>\n",
       "      <td>2015</td>\n",
       "      <td>9</td>\n",
       "      <td>38</td>\n",
       "      <td>16</td>\n",
       "    </tr>\n",
       "    <tr>\n",
       "      <th>2191</th>\n",
       "      <td>2192</td>\n",
       "      <td>622</td>\n",
       "      <td>2</td>\n",
       "      <td>2015-09-15</td>\n",
       "      <td>NaN</td>\n",
       "      <td>1</td>\n",
       "      <td>0</td>\n",
       "      <td>0</td>\n",
       "      <td>a</td>\n",
       "      <td>c</td>\n",
       "      <td>...</td>\n",
       "      <td>NaN</td>\n",
       "      <td>NaN</td>\n",
       "      <td>0</td>\n",
       "      <td>NaN</td>\n",
       "      <td>NaN</td>\n",
       "      <td>NaN</td>\n",
       "      <td>2015</td>\n",
       "      <td>9</td>\n",
       "      <td>38</td>\n",
       "      <td>15</td>\n",
       "    </tr>\n",
       "    <tr>\n",
       "      <th>3047</th>\n",
       "      <td>3048</td>\n",
       "      <td>622</td>\n",
       "      <td>1</td>\n",
       "      <td>2015-09-14</td>\n",
       "      <td>NaN</td>\n",
       "      <td>1</td>\n",
       "      <td>0</td>\n",
       "      <td>0</td>\n",
       "      <td>a</td>\n",
       "      <td>c</td>\n",
       "      <td>...</td>\n",
       "      <td>NaN</td>\n",
       "      <td>NaN</td>\n",
       "      <td>0</td>\n",
       "      <td>NaN</td>\n",
       "      <td>NaN</td>\n",
       "      <td>NaN</td>\n",
       "      <td>2015</td>\n",
       "      <td>9</td>\n",
       "      <td>38</td>\n",
       "      <td>14</td>\n",
       "    </tr>\n",
       "    <tr>\n",
       "      <th>4759</th>\n",
       "      <td>4760</td>\n",
       "      <td>622</td>\n",
       "      <td>6</td>\n",
       "      <td>2015-09-12</td>\n",
       "      <td>NaN</td>\n",
       "      <td>0</td>\n",
       "      <td>0</td>\n",
       "      <td>0</td>\n",
       "      <td>a</td>\n",
       "      <td>c</td>\n",
       "      <td>...</td>\n",
       "      <td>NaN</td>\n",
       "      <td>NaN</td>\n",
       "      <td>0</td>\n",
       "      <td>NaN</td>\n",
       "      <td>NaN</td>\n",
       "      <td>NaN</td>\n",
       "      <td>2015</td>\n",
       "      <td>9</td>\n",
       "      <td>37</td>\n",
       "      <td>12</td>\n",
       "    </tr>\n",
       "    <tr>\n",
       "      <th>5615</th>\n",
       "      <td>5616</td>\n",
       "      <td>622</td>\n",
       "      <td>5</td>\n",
       "      <td>2015-09-11</td>\n",
       "      <td>NaN</td>\n",
       "      <td>0</td>\n",
       "      <td>0</td>\n",
       "      <td>0</td>\n",
       "      <td>a</td>\n",
       "      <td>c</td>\n",
       "      <td>...</td>\n",
       "      <td>NaN</td>\n",
       "      <td>NaN</td>\n",
       "      <td>0</td>\n",
       "      <td>NaN</td>\n",
       "      <td>NaN</td>\n",
       "      <td>NaN</td>\n",
       "      <td>2015</td>\n",
       "      <td>9</td>\n",
       "      <td>37</td>\n",
       "      <td>11</td>\n",
       "    </tr>\n",
       "    <tr>\n",
       "      <th>6471</th>\n",
       "      <td>6472</td>\n",
       "      <td>622</td>\n",
       "      <td>4</td>\n",
       "      <td>2015-09-10</td>\n",
       "      <td>NaN</td>\n",
       "      <td>0</td>\n",
       "      <td>0</td>\n",
       "      <td>0</td>\n",
       "      <td>a</td>\n",
       "      <td>c</td>\n",
       "      <td>...</td>\n",
       "      <td>NaN</td>\n",
       "      <td>NaN</td>\n",
       "      <td>0</td>\n",
       "      <td>NaN</td>\n",
       "      <td>NaN</td>\n",
       "      <td>NaN</td>\n",
       "      <td>2015</td>\n",
       "      <td>9</td>\n",
       "      <td>37</td>\n",
       "      <td>10</td>\n",
       "    </tr>\n",
       "    <tr>\n",
       "      <th>7327</th>\n",
       "      <td>7328</td>\n",
       "      <td>622</td>\n",
       "      <td>3</td>\n",
       "      <td>2015-09-09</td>\n",
       "      <td>NaN</td>\n",
       "      <td>0</td>\n",
       "      <td>0</td>\n",
       "      <td>0</td>\n",
       "      <td>a</td>\n",
       "      <td>c</td>\n",
       "      <td>...</td>\n",
       "      <td>NaN</td>\n",
       "      <td>NaN</td>\n",
       "      <td>0</td>\n",
       "      <td>NaN</td>\n",
       "      <td>NaN</td>\n",
       "      <td>NaN</td>\n",
       "      <td>2015</td>\n",
       "      <td>9</td>\n",
       "      <td>37</td>\n",
       "      <td>9</td>\n",
       "    </tr>\n",
       "    <tr>\n",
       "      <th>8183</th>\n",
       "      <td>8184</td>\n",
       "      <td>622</td>\n",
       "      <td>2</td>\n",
       "      <td>2015-09-08</td>\n",
       "      <td>NaN</td>\n",
       "      <td>0</td>\n",
       "      <td>0</td>\n",
       "      <td>0</td>\n",
       "      <td>a</td>\n",
       "      <td>c</td>\n",
       "      <td>...</td>\n",
       "      <td>NaN</td>\n",
       "      <td>NaN</td>\n",
       "      <td>0</td>\n",
       "      <td>NaN</td>\n",
       "      <td>NaN</td>\n",
       "      <td>NaN</td>\n",
       "      <td>2015</td>\n",
       "      <td>9</td>\n",
       "      <td>37</td>\n",
       "      <td>8</td>\n",
       "    </tr>\n",
       "    <tr>\n",
       "      <th>9039</th>\n",
       "      <td>9040</td>\n",
       "      <td>622</td>\n",
       "      <td>1</td>\n",
       "      <td>2015-09-07</td>\n",
       "      <td>NaN</td>\n",
       "      <td>0</td>\n",
       "      <td>0</td>\n",
       "      <td>0</td>\n",
       "      <td>a</td>\n",
       "      <td>c</td>\n",
       "      <td>...</td>\n",
       "      <td>NaN</td>\n",
       "      <td>NaN</td>\n",
       "      <td>0</td>\n",
       "      <td>NaN</td>\n",
       "      <td>NaN</td>\n",
       "      <td>NaN</td>\n",
       "      <td>2015</td>\n",
       "      <td>9</td>\n",
       "      <td>37</td>\n",
       "      <td>7</td>\n",
       "    </tr>\n",
       "    <tr>\n",
       "      <th>10751</th>\n",
       "      <td>10752</td>\n",
       "      <td>622</td>\n",
       "      <td>6</td>\n",
       "      <td>2015-09-05</td>\n",
       "      <td>NaN</td>\n",
       "      <td>0</td>\n",
       "      <td>0</td>\n",
       "      <td>0</td>\n",
       "      <td>a</td>\n",
       "      <td>c</td>\n",
       "      <td>...</td>\n",
       "      <td>NaN</td>\n",
       "      <td>NaN</td>\n",
       "      <td>0</td>\n",
       "      <td>NaN</td>\n",
       "      <td>NaN</td>\n",
       "      <td>NaN</td>\n",
       "      <td>2015</td>\n",
       "      <td>9</td>\n",
       "      <td>36</td>\n",
       "      <td>5</td>\n",
       "    </tr>\n",
       "  </tbody>\n",
       "</table>\n",
       "<p>11 rows × 21 columns</p>\n",
       "</div>"
      ],
      "text/plain": [
       "          Id  Store  DayOfWeek       Date  Open  Promo StateHoliday  \\\n",
       "479      480    622          4 2015-09-17   NaN      1            0   \n",
       "1335    1336    622          3 2015-09-16   NaN      1            0   \n",
       "2191    2192    622          2 2015-09-15   NaN      1            0   \n",
       "3047    3048    622          1 2015-09-14   NaN      1            0   \n",
       "4759    4760    622          6 2015-09-12   NaN      0            0   \n",
       "5615    5616    622          5 2015-09-11   NaN      0            0   \n",
       "6471    6472    622          4 2015-09-10   NaN      0            0   \n",
       "7327    7328    622          3 2015-09-09   NaN      0            0   \n",
       "8183    8184    622          2 2015-09-08   NaN      0            0   \n",
       "9039    9040    622          1 2015-09-07   NaN      0            0   \n",
       "10751  10752    622          6 2015-09-05   NaN      0            0   \n",
       "\n",
       "       SchoolHoliday StoreType Assortment     ...      \\\n",
       "479                0         a          c     ...       \n",
       "1335               0         a          c     ...       \n",
       "2191               0         a          c     ...       \n",
       "3047               0         a          c     ...       \n",
       "4759               0         a          c     ...       \n",
       "5615               0         a          c     ...       \n",
       "6471               0         a          c     ...       \n",
       "7327               0         a          c     ...       \n",
       "8183               0         a          c     ...       \n",
       "9039               0         a          c     ...       \n",
       "10751              0         a          c     ...       \n",
       "\n",
       "       CompetitionOpenSinceMonth  CompetitionOpenSinceYear  Promo2  \\\n",
       "479                          NaN                       NaN       0   \n",
       "1335                         NaN                       NaN       0   \n",
       "2191                         NaN                       NaN       0   \n",
       "3047                         NaN                       NaN       0   \n",
       "4759                         NaN                       NaN       0   \n",
       "5615                         NaN                       NaN       0   \n",
       "6471                         NaN                       NaN       0   \n",
       "7327                         NaN                       NaN       0   \n",
       "8183                         NaN                       NaN       0   \n",
       "9039                         NaN                       NaN       0   \n",
       "10751                        NaN                       NaN       0   \n",
       "\n",
       "       Promo2SinceWeek  Promo2SinceYear  PromoInterval  Year  MonthofYear  \\\n",
       "479                NaN              NaN            NaN  2015            9   \n",
       "1335               NaN              NaN            NaN  2015            9   \n",
       "2191               NaN              NaN            NaN  2015            9   \n",
       "3047               NaN              NaN            NaN  2015            9   \n",
       "4759               NaN              NaN            NaN  2015            9   \n",
       "5615               NaN              NaN            NaN  2015            9   \n",
       "6471               NaN              NaN            NaN  2015            9   \n",
       "7327               NaN              NaN            NaN  2015            9   \n",
       "8183               NaN              NaN            NaN  2015            9   \n",
       "9039               NaN              NaN            NaN  2015            9   \n",
       "10751              NaN              NaN            NaN  2015            9   \n",
       "\n",
       "       WeekofYear  DayofMonth  \n",
       "479            38          17  \n",
       "1335           38          16  \n",
       "2191           38          15  \n",
       "3047           38          14  \n",
       "4759           37          12  \n",
       "5615           37          11  \n",
       "6471           37          10  \n",
       "7327           37           9  \n",
       "8183           37           8  \n",
       "9039           37           7  \n",
       "10751          36           5  \n",
       "\n",
       "[11 rows x 21 columns]"
      ]
     },
     "execution_count": 20,
     "metadata": {},
     "output_type": "execute_result"
    }
   ],
   "source": [
    "# 4、Open\n",
    "# 根据之前的数据信息，test数据集的Open列出现少量缺失值\n",
    "# 查询缺失值\n",
    "test_raw[test_raw['Open'].isnull().values==True]"
   ]
  },
  {
   "cell_type": "markdown",
   "metadata": {},
   "source": [
    "参考[这里](https://www.kaggle.com/c/rossmann-store-sales/discussion/16835)的讨论，将此处的缺失值填补为1."
   ]
  },
  {
   "cell_type": "code",
   "execution_count": 21,
   "metadata": {
    "collapsed": true
   },
   "outputs": [],
   "source": [
    "# 填充缺失值\n",
    "test_raw['Open'] = test_raw['Open'].fillna(1)"
   ]
  },
  {
   "cell_type": "code",
   "execution_count": 22,
   "metadata": {},
   "outputs": [
    {
     "data": {
      "text/plain": [
       "<matplotlib.axes._subplots.AxesSubplot at 0x1148b748>"
      ]
     },
     "execution_count": 22,
     "metadata": {},
     "output_type": "execute_result"
    },
    {
     "data": {
      "image/png": "[encoded data removed]",
      "text/plain": [
       "<matplotlib.figure.Figure at 0xf6d3cc0>"
      ]
     },
     "metadata": {},
     "output_type": "display_data"
    }
   ],
   "source": [
    "# 5、Promo\n",
    "sns.barplot(x='Promo', y='Sales', data=train_raw)"
   ]
  },
  {
   "cell_type": "code",
   "execution_count": 23,
   "metadata": {},
   "outputs": [
    {
     "data": {
      "text/plain": [
       "0    855087\n",
       "0    131072\n",
       "a     20260\n",
       "b      6690\n",
       "c      4100\n",
       "Name: StateHoliday, dtype: int64"
      ]
     },
     "execution_count": 23,
     "metadata": {},
     "output_type": "execute_result"
    }
   ],
   "source": [
    "# 6、StateHoliday\n",
    "# 观察之前的数据集信息发现，StateHoliday列不是数值型变量\n",
    "train_raw['StateHoliday'].value_counts(dropna=False)"
   ]
  },
  {
   "cell_type": "code",
   "execution_count": 24,
   "metadata": {},
   "outputs": [
    {
     "data": {
      "text/plain": [
       "array(['0', 'a', 'b', 'c', 0L], dtype=object)"
      ]
     },
     "execution_count": 24,
     "metadata": {},
     "output_type": "execute_result"
    }
   ],
   "source": [
    "# 而且取0时还有两种格式\n",
    "train_raw['StateHoliday'].unique()"
   ]
  },
  {
   "cell_type": "code",
   "execution_count": 25,
   "metadata": {},
   "outputs": [
    {
     "data": {
      "text/plain": [
       "array(['0', 'a', 'b', 'c'], dtype=object)"
      ]
     },
     "execution_count": 25,
     "metadata": {},
     "output_type": "execute_result"
    }
   ],
   "source": [
    "# 将StateHoliday的特征值格式进行统一\n",
    "train_raw['StateHoliday'] = train_raw['StateHoliday'].replace(0L,'0')\n",
    "test_raw['StateHoliday'] = test_raw['StateHoliday'].replace(0L,'0')\n",
    "train_raw['StateHoliday'].unique()"
   ]
  },
  {
   "cell_type": "code",
   "execution_count": 26,
   "metadata": {},
   "outputs": [
    {
     "data": {
      "text/plain": [
       "<matplotlib.axes._subplots.AxesSubplot at 0x11422630>"
      ]
     },
     "execution_count": 26,
     "metadata": {},
     "output_type": "execute_result"
    },
    {
     "data": {
      "image/png": "[encoded data removed]",
      "text/plain": [
       "<matplotlib.figure.Figure at 0x128d3748>"
      ]
     },
     "metadata": {},
     "output_type": "display_data"
    }
   ],
   "source": [
    "sns.barplot(x='StateHoliday', y='Sales', data=train_raw, order=['0','a','b','c'])"
   ]
  },
  {
   "cell_type": "code",
   "execution_count": 27,
   "metadata": {},
   "outputs": [
    {
     "data": {
      "text/plain": [
       "<matplotlib.axes._subplots.AxesSubplot at 0xc8e5d68>"
      ]
     },
     "execution_count": 27,
     "metadata": {},
     "output_type": "execute_result"
    },
    {
     "data": {
      "image/png": "[encoded data removed]",
      "text/plain": [
       "<matplotlib.figure.Figure at 0x128d36d8>"
      ]
     },
     "metadata": {},
     "output_type": "display_data"
    }
   ],
   "source": [
    "# 7、SchoolHoliday\n",
    "sns.barplot(x='SchoolHoliday', y='Sales', data=train_raw)"
   ]
  },
  {
   "cell_type": "code",
   "execution_count": 28,
   "metadata": {},
   "outputs": [
    {
     "data": {
      "text/plain": [
       "<matplotlib.axes._subplots.AxesSubplot at 0x110e4fd0>"
      ]
     },
     "execution_count": 28,
     "metadata": {},
     "output_type": "execute_result"
    },
    {
     "data": {
      "image/png": "[encoded data removed]",
      "text/plain": [
       "<matplotlib.figure.Figure at 0x122fd160>"
      ]
     },
     "metadata": {},
     "output_type": "display_data"
    }
   ],
   "source": [
    "# 8、StoreType\n",
    "sns.barplot(x='StoreType', y='Sales', data=train_raw, order=['a','b','c','d'])"
   ]
  },
  {
   "cell_type": "code",
   "execution_count": 29,
   "metadata": {},
   "outputs": [
    {
     "data": {
      "text/plain": [
       "<matplotlib.axes._subplots.AxesSubplot at 0x111eac50>"
      ]
     },
     "execution_count": 29,
     "metadata": {},
     "output_type": "execute_result"
    },
    {
     "data": {
      "image/png": "[encoded data removed]",
      "text/plain": [
       "<matplotlib.figure.Figure at 0x12308208>"
      ]
     },
     "metadata": {},
     "output_type": "display_data"
    }
   ],
   "source": [
    "# 9、Assortment\n",
    "sns.barplot(x='Assortment', y='Sales', data=train_raw, order=['a','b','c'])"
   ]
  },
  {
   "cell_type": "code",
   "execution_count": 30,
   "metadata": {},
   "outputs": [
    {
     "data": {
      "text/plain": [
       "<matplotlib.axes._subplots.AxesSubplot at 0x112987b8>"
      ]
     },
     "execution_count": 30,
     "metadata": {},
     "output_type": "execute_result"
    },
    {
     "data": {
      "image/png": "[encoded data removed]",
      "text/plain": [
       "<matplotlib.figure.Figure at 0x11282470>"
      ]
     },
     "metadata": {},
     "output_type": "display_data"
    }
   ],
   "source": [
    "# 10、CompetitionDistance\n",
    "# 观察分布\n",
    "sns.distplot(train_raw['CompetitionDistance'], hist=False)"
   ]
  },
  {
   "cell_type": "code",
   "execution_count": 31,
   "metadata": {
    "collapsed": true
   },
   "outputs": [],
   "source": [
    "# 倾斜数据集进行log转换\n",
    "train_raw['CompetitionDistance'] = train_raw['CompetitionDistance'].apply(lambda x:np.log(x+1))\n",
    "test_raw['CompetitionDistance'] = test_raw['CompetitionDistance'].apply(lambda x:np.log(x+1))"
   ]
  },
  {
   "cell_type": "code",
   "execution_count": 32,
   "metadata": {},
   "outputs": [
    {
     "data": {
      "text/plain": [
       "<matplotlib.axes._subplots.AxesSubplot at 0x10fccc50>"
      ]
     },
     "execution_count": 32,
     "metadata": {},
     "output_type": "execute_result"
    },
    {
     "data": {
      "image/png": "[encoded data removed]",
      "text/plain": [
       "<matplotlib.figure.Figure at 0x11fb70f0>"
      ]
     },
     "metadata": {},
     "output_type": "display_data"
    }
   ],
   "source": [
    "sns.distplot(train_raw['CompetitionDistance'], hist=False)"
   ]
  },
  {
   "cell_type": "code",
   "execution_count": 33,
   "metadata": {},
   "outputs": [
    {
     "data": {
      "text/plain": [
       "NaN      323348\n",
       " 9.0     114254\n",
       " 4.0      87076\n",
       " 11.0     84455\n",
       " 3.0      63548\n",
       " 7.0      59434\n",
       " 12.0     57896\n",
       " 10.0     55622\n",
       " 6.0      45444\n",
       " 5.0      39608\n",
       " 2.0      37886\n",
       " 8.0      36186\n",
       " 1.0      12452\n",
       "Name: CompetitionOpenSinceMonth, dtype: int64"
      ]
     },
     "execution_count": 33,
     "metadata": {},
     "output_type": "execute_result"
    }
   ],
   "source": [
    "# 11、CompetitionOpenSinceMonth\n",
    "train_raw['CompetitionOpenSinceMonth'].value_counts(dropna=False)"
   ]
  },
  {
   "cell_type": "code",
   "execution_count": 34,
   "metadata": {},
   "outputs": [
    {
     "data": {
      "text/plain": [
       "<matplotlib.axes._subplots.AxesSubplot at 0xf076550>"
      ]
     },
     "execution_count": 34,
     "metadata": {},
     "output_type": "execute_result"
    },
    {
     "data": {
      "image/png": "[encoded data removed]",
      "text/plain": [
       "<matplotlib.figure.Figure at 0x12212c18>"
      ]
     },
     "metadata": {},
     "output_type": "display_data"
    }
   ],
   "source": [
    "sns.barplot(x='CompetitionOpenSinceMonth', y='Sales', data=train_raw)"
   ]
  },
  {
   "cell_type": "code",
   "execution_count": 35,
   "metadata": {},
   "outputs": [
    {
     "data": {
      "text/plain": [
       "NaN        323348\n",
       " 2013.0     75426\n",
       " 2012.0     74299\n",
       " 2014.0     63732\n",
       " 2005.0     56564\n",
       " 2010.0     51258\n",
       " 2011.0     49396\n",
       " 2009.0     49396\n",
       " 2008.0     48476\n",
       " 2007.0     43744\n",
       " 2006.0     42802\n",
       " 2015.0     35060\n",
       " 2002.0     24882\n",
       " 2004.0     19804\n",
       " 2003.0     16794\n",
       " 2001.0     14704\n",
       " 2000.0      9236\n",
       " 1999.0      7352\n",
       " 1990.0      4710\n",
       " 1994.0      1884\n",
       " 1995.0      1700\n",
       " 1998.0       942\n",
       " 1961.0       942\n",
       " 1900.0       758\n",
       "Name: CompetitionOpenSinceYear, dtype: int64"
      ]
     },
     "execution_count": 35,
     "metadata": {},
     "output_type": "execute_result"
    }
   ],
   "source": [
    "# 12、CompetitionOpenSinceYear\n",
    "train_raw['CompetitionOpenSinceYear'].value_counts(dropna=False)"
   ]
  },
  {
   "cell_type": "code",
   "execution_count": 36,
   "metadata": {},
   "outputs": [
    {
     "data": {
      "text/plain": [
       "<matplotlib.axes._subplots.AxesSubplot at 0x28aad278>"
      ]
     },
     "execution_count": 36,
     "metadata": {},
     "output_type": "execute_result"
    },
    {
     "data": {
      "image/png": "[encoded data removed]",
      "text/plain": [
       "<matplotlib.figure.Figure at 0x10ce3e10>"
      ]
     },
     "metadata": {},
     "output_type": "display_data"
    }
   ],
   "source": [
    "sns.barplot(x='CompetitionOpenSinceYear', y='Sales', data=train_raw)"
   ]
  },
  {
   "cell_type": "code",
   "execution_count": 37,
   "metadata": {},
   "outputs": [
    {
     "data": {
      "text/plain": [
       "<matplotlib.axes._subplots.AxesSubplot at 0x2f908f60>"
      ]
     },
     "execution_count": 37,
     "metadata": {},
     "output_type": "execute_result"
    },
    {
     "data": {
      "image/png": "[encoded data removed]",
      "text/plain": [
       "<matplotlib.figure.Figure at 0x10cfca20>"
      ]
     },
     "metadata": {},
     "output_type": "display_data"
    }
   ],
   "source": [
    "# 13、Promo2\n",
    "sns.barplot(x='Promo2', y='Sales', data=train_raw)"
   ]
  },
  {
   "cell_type": "code",
   "execution_count": 38,
   "metadata": {},
   "outputs": [
    {
     "data": {
      "text/plain": [
       "<matplotlib.axes._subplots.AxesSubplot at 0x283d5be0>"
      ]
     },
     "execution_count": 38,
     "metadata": {},
     "output_type": "execute_result"
    },
    {
     "data": {
      "image/png": "[encoded data removed]",
      "text/plain": [
       "<matplotlib.figure.Figure at 0x285932b0>"
      ]
     },
     "metadata": {},
     "output_type": "display_data"
    }
   ],
   "source": [
    "# 14、Promo2SinceWeek\n",
    "sns.barplot(x='Promo2SinceWeek', y='Sales', data=train_raw)"
   ]
  },
  {
   "cell_type": "code",
   "execution_count": 39,
   "metadata": {},
   "outputs": [
    {
     "data": {
      "text/plain": [
       "<matplotlib.axes._subplots.AxesSubplot at 0x2fc3ed30>"
      ]
     },
     "execution_count": 39,
     "metadata": {},
     "output_type": "execute_result"
    },
    {
     "data": {
      "image/png": "[encoded data removed]",
      "text/plain": [
       "<matplotlib.figure.Figure at 0x2fe37ac8>"
      ]
     },
     "metadata": {},
     "output_type": "display_data"
    }
   ],
   "source": [
    "# 15、Promo2SinceYear\n",
    "sns.barplot(x='Promo2SinceYear', y='Sales', data=train_raw)"
   ]
  },
  {
   "cell_type": "code",
   "execution_count": 40,
   "metadata": {},
   "outputs": [
    {
     "data": {
      "text/plain": [
       "<matplotlib.axes._subplots.AxesSubplot at 0x30497a58>"
      ]
     },
     "execution_count": 40,
     "metadata": {},
     "output_type": "execute_result"
    },
    {
     "data": {
      "image/png": "[encoded data removed]",
      "text/plain": [
       "<matplotlib.figure.Figure at 0x304bb6a0>"
      ]
     },
     "metadata": {},
     "output_type": "display_data"
    }
   ],
   "source": [
    "# 16、PromoInterval\n",
    "sns.barplot(x='PromoInterval', y='Sales', data=train_raw)"
   ]
  },
  {
   "cell_type": "code",
   "execution_count": 41,
   "metadata": {},
   "outputs": [
    {
     "data": {
      "text/html": [
       "<div>\n",
       "<style>\n",
       "    .dataframe thead tr:only-child th {\n",
       "        text-align: right;\n",
       "    }\n",
       "\n",
       "    .dataframe thead th {\n",
       "        text-align: left;\n",
       "    }\n",
       "\n",
       "    .dataframe tbody tr th {\n",
       "        vertical-align: top;\n",
       "    }\n",
       "</style>\n",
       "<table border=\"1\" class=\"dataframe\">\n",
       "  <thead>\n",
       "    <tr style=\"text-align: right;\">\n",
       "      <th></th>\n",
       "      <th>Store</th>\n",
       "      <th>DayOfWeek</th>\n",
       "      <th>Sales</th>\n",
       "      <th>Customers</th>\n",
       "      <th>Open</th>\n",
       "      <th>Promo</th>\n",
       "      <th>SchoolHoliday</th>\n",
       "      <th>CompetitionDistance</th>\n",
       "      <th>CompetitionOpenSinceMonth</th>\n",
       "      <th>CompetitionOpenSinceYear</th>\n",
       "      <th>Promo2</th>\n",
       "      <th>Promo2SinceWeek</th>\n",
       "      <th>Promo2SinceYear</th>\n",
       "      <th>Year</th>\n",
       "      <th>MonthofYear</th>\n",
       "      <th>WeekofYear</th>\n",
       "      <th>DayofMonth</th>\n",
       "    </tr>\n",
       "  </thead>\n",
       "  <tbody>\n",
       "    <tr>\n",
       "      <th>Store</th>\n",
       "      <td>1.000000</td>\n",
       "      <td>-0.000008</td>\n",
       "      <td>0.000067</td>\n",
       "      <td>0.024325</td>\n",
       "      <td>-0.000047</td>\n",
       "      <td>0.000058</td>\n",
       "      <td>0.000641</td>\n",
       "      <td>-0.052372</td>\n",
       "      <td>-0.050746</td>\n",
       "      <td>-0.004592</td>\n",
       "      <td>0.008488</td>\n",
       "      <td>0.009865</td>\n",
       "      <td>0.038928</td>\n",
       "      <td>0.000290</td>\n",
       "      <td>0.001467</td>\n",
       "      <td>0.001421</td>\n",
       "      <td>0.000023</td>\n",
       "    </tr>\n",
       "    <tr>\n",
       "      <th>DayOfWeek</th>\n",
       "      <td>-0.000008</td>\n",
       "      <td>1.000000</td>\n",
       "      <td>-0.543216</td>\n",
       "      <td>-0.386445</td>\n",
       "      <td>-0.528963</td>\n",
       "      <td>-0.392925</td>\n",
       "      <td>-0.205388</td>\n",
       "      <td>0.000005</td>\n",
       "      <td>0.000006</td>\n",
       "      <td>-0.000025</td>\n",
       "      <td>0.000168</td>\n",
       "      <td>0.000174</td>\n",
       "      <td>0.000049</td>\n",
       "      <td>0.001937</td>\n",
       "      <td>-0.005362</td>\n",
       "      <td>-0.004880</td>\n",
       "      <td>0.005136</td>\n",
       "    </tr>\n",
       "    <tr>\n",
       "      <th>Sales</th>\n",
       "      <td>0.000067</td>\n",
       "      <td>-0.543216</td>\n",
       "      <td>1.000000</td>\n",
       "      <td>0.682308</td>\n",
       "      <td>0.992949</td>\n",
       "      <td>0.337111</td>\n",
       "      <td>0.090409</td>\n",
       "      <td>-0.005584</td>\n",
       "      <td>-0.002831</td>\n",
       "      <td>0.004975</td>\n",
       "      <td>-0.020747</td>\n",
       "      <td>0.008087</td>\n",
       "      <td>-0.002156</td>\n",
       "      <td>0.003982</td>\n",
       "      <td>0.006712</td>\n",
       "      <td>0.012371</td>\n",
       "      <td>0.026956</td>\n",
       "    </tr>\n",
       "    <tr>\n",
       "      <th>Customers</th>\n",
       "      <td>0.024325</td>\n",
       "      <td>-0.386445</td>\n",
       "      <td>0.682308</td>\n",
       "      <td>1.000000</td>\n",
       "      <td>0.616768</td>\n",
       "      <td>0.316169</td>\n",
       "      <td>0.071568</td>\n",
       "      <td>-0.203230</td>\n",
       "      <td>-0.030954</td>\n",
       "      <td>0.008931</td>\n",
       "      <td>-0.150159</td>\n",
       "      <td>0.040531</td>\n",
       "      <td>0.028974</td>\n",
       "      <td>-0.001212</td>\n",
       "      <td>0.038179</td>\n",
       "      <td>0.041404</td>\n",
       "      <td>-0.004473</td>\n",
       "    </tr>\n",
       "    <tr>\n",
       "      <th>Open</th>\n",
       "      <td>-0.000047</td>\n",
       "      <td>-0.528963</td>\n",
       "      <td>0.992949</td>\n",
       "      <td>0.616768</td>\n",
       "      <td>1.000000</td>\n",
       "      <td>0.295042</td>\n",
       "      <td>0.086171</td>\n",
       "      <td>0.001067</td>\n",
       "      <td>0.001384</td>\n",
       "      <td>0.002771</td>\n",
       "      <td>-0.008309</td>\n",
       "      <td>-0.002430</td>\n",
       "      <td>0.001637</td>\n",
       "      <td>-0.001009</td>\n",
       "      <td>-0.000681</td>\n",
       "      <td>0.004792</td>\n",
       "      <td>0.033428</td>\n",
       "    </tr>\n",
       "    <tr>\n",
       "      <th>Promo</th>\n",
       "      <td>0.000058</td>\n",
       "      <td>-0.392925</td>\n",
       "      <td>0.337111</td>\n",
       "      <td>0.316169</td>\n",
       "      <td>0.295042</td>\n",
       "      <td>1.000000</td>\n",
       "      <td>0.067483</td>\n",
       "      <td>-0.000045</td>\n",
       "      <td>-0.000023</td>\n",
       "      <td>0.000152</td>\n",
       "      <td>-0.000983</td>\n",
       "      <td>-0.001008</td>\n",
       "      <td>-0.000283</td>\n",
       "      <td>0.024300</td>\n",
       "      <td>-0.011747</td>\n",
       "      <td>0.000572</td>\n",
       "      <td>-0.108325</td>\n",
       "    </tr>\n",
       "    <tr>\n",
       "      <th>SchoolHoliday</th>\n",
       "      <td>0.000641</td>\n",
       "      <td>-0.205388</td>\n",
       "      <td>0.090409</td>\n",
       "      <td>0.071568</td>\n",
       "      <td>0.086171</td>\n",
       "      <td>0.067483</td>\n",
       "      <td>1.000000</td>\n",
       "      <td>-0.003331</td>\n",
       "      <td>-0.000526</td>\n",
       "      <td>0.001520</td>\n",
       "      <td>-0.006909</td>\n",
       "      <td>-0.003133</td>\n",
       "      <td>-0.003682</td>\n",
       "      <td>-0.036535</td>\n",
       "      <td>0.103282</td>\n",
       "      <td>0.071052</td>\n",
       "      <td>0.030538</td>\n",
       "    </tr>\n",
       "    <tr>\n",
       "      <th>CompetitionDistance</th>\n",
       "      <td>-0.052372</td>\n",
       "      <td>0.000005</td>\n",
       "      <td>-0.005584</td>\n",
       "      <td>-0.203230</td>\n",
       "      <td>0.001067</td>\n",
       "      <td>-0.000045</td>\n",
       "      <td>-0.003331</td>\n",
       "      <td>1.000000</td>\n",
       "      <td>-0.033032</td>\n",
       "      <td>0.009431</td>\n",
       "      <td>-0.091907</td>\n",
       "      <td>-0.020439</td>\n",
       "      <td>-0.085927</td>\n",
       "      <td>-0.000222</td>\n",
       "      <td>-0.001116</td>\n",
       "      <td>-0.001081</td>\n",
       "      <td>-0.000020</td>\n",
       "    </tr>\n",
       "    <tr>\n",
       "      <th>CompetitionOpenSinceMonth</th>\n",
       "      <td>-0.050746</td>\n",
       "      <td>0.000006</td>\n",
       "      <td>-0.002831</td>\n",
       "      <td>-0.030954</td>\n",
       "      <td>0.001384</td>\n",
       "      <td>-0.000023</td>\n",
       "      <td>-0.000526</td>\n",
       "      <td>-0.033032</td>\n",
       "      <td>1.000000</td>\n",
       "      <td>-0.060594</td>\n",
       "      <td>-0.009383</td>\n",
       "      <td>-0.036251</td>\n",
       "      <td>0.050326</td>\n",
       "      <td>-0.000121</td>\n",
       "      <td>-0.000624</td>\n",
       "      <td>-0.000604</td>\n",
       "      <td>-0.000006</td>\n",
       "    </tr>\n",
       "    <tr>\n",
       "      <th>CompetitionOpenSinceYear</th>\n",
       "      <td>-0.004592</td>\n",
       "      <td>-0.000025</td>\n",
       "      <td>0.004975</td>\n",
       "      <td>0.008931</td>\n",
       "      <td>0.002771</td>\n",
       "      <td>0.000152</td>\n",
       "      <td>0.001520</td>\n",
       "      <td>0.009431</td>\n",
       "      <td>-0.060594</td>\n",
       "      <td>1.000000</td>\n",
       "      <td>-0.077336</td>\n",
       "      <td>-0.079784</td>\n",
       "      <td>0.012155</td>\n",
       "      <td>0.000771</td>\n",
       "      <td>0.003916</td>\n",
       "      <td>0.003791</td>\n",
       "      <td>0.000056</td>\n",
       "    </tr>\n",
       "    <tr>\n",
       "      <th>Promo2</th>\n",
       "      <td>0.008488</td>\n",
       "      <td>0.000168</td>\n",
       "      <td>-0.020747</td>\n",
       "      <td>-0.150159</td>\n",
       "      <td>-0.008309</td>\n",
       "      <td>-0.000983</td>\n",
       "      <td>-0.006909</td>\n",
       "      <td>-0.091907</td>\n",
       "      <td>-0.009383</td>\n",
       "      <td>-0.077336</td>\n",
       "      <td>1.000000</td>\n",
       "      <td>NaN</td>\n",
       "      <td>NaN</td>\n",
       "      <td>-0.004982</td>\n",
       "      <td>-0.025323</td>\n",
       "      <td>-0.024516</td>\n",
       "      <td>-0.000354</td>\n",
       "    </tr>\n",
       "    <tr>\n",
       "      <th>Promo2SinceWeek</th>\n",
       "      <td>0.009865</td>\n",
       "      <td>0.000174</td>\n",
       "      <td>0.008087</td>\n",
       "      <td>0.040531</td>\n",
       "      <td>-0.002430</td>\n",
       "      <td>-0.001008</td>\n",
       "      <td>-0.003133</td>\n",
       "      <td>-0.020439</td>\n",
       "      <td>-0.036251</td>\n",
       "      <td>-0.079784</td>\n",
       "      <td>NaN</td>\n",
       "      <td>1.000000</td>\n",
       "      <td>-0.244155</td>\n",
       "      <td>-0.005055</td>\n",
       "      <td>-0.026127</td>\n",
       "      <td>-0.025304</td>\n",
       "      <td>-0.000362</td>\n",
       "    </tr>\n",
       "    <tr>\n",
       "      <th>Promo2SinceYear</th>\n",
       "      <td>0.038928</td>\n",
       "      <td>0.000049</td>\n",
       "      <td>-0.002156</td>\n",
       "      <td>0.028974</td>\n",
       "      <td>0.001637</td>\n",
       "      <td>-0.000283</td>\n",
       "      <td>-0.003682</td>\n",
       "      <td>-0.085927</td>\n",
       "      <td>0.050326</td>\n",
       "      <td>0.012155</td>\n",
       "      <td>NaN</td>\n",
       "      <td>-0.244155</td>\n",
       "      <td>1.000000</td>\n",
       "      <td>-0.001418</td>\n",
       "      <td>-0.007328</td>\n",
       "      <td>-0.007098</td>\n",
       "      <td>-0.000101</td>\n",
       "    </tr>\n",
       "    <tr>\n",
       "      <th>Year</th>\n",
       "      <td>0.000290</td>\n",
       "      <td>0.001937</td>\n",
       "      <td>0.003982</td>\n",
       "      <td>-0.001212</td>\n",
       "      <td>-0.001009</td>\n",
       "      <td>0.024300</td>\n",
       "      <td>-0.036535</td>\n",
       "      <td>-0.000222</td>\n",
       "      <td>-0.000121</td>\n",
       "      <td>0.000771</td>\n",
       "      <td>-0.004982</td>\n",
       "      <td>-0.005055</td>\n",
       "      <td>-0.001418</td>\n",
       "      <td>1.000000</td>\n",
       "      <td>-0.269382</td>\n",
       "      <td>-0.256619</td>\n",
       "      <td>-0.002485</td>\n",
       "    </tr>\n",
       "    <tr>\n",
       "      <th>MonthofYear</th>\n",
       "      <td>0.001467</td>\n",
       "      <td>-0.005362</td>\n",
       "      <td>0.006712</td>\n",
       "      <td>0.038179</td>\n",
       "      <td>-0.000681</td>\n",
       "      <td>-0.011747</td>\n",
       "      <td>0.103282</td>\n",
       "      <td>-0.001116</td>\n",
       "      <td>-0.000624</td>\n",
       "      <td>0.003916</td>\n",
       "      <td>-0.025323</td>\n",
       "      <td>-0.026127</td>\n",
       "      <td>-0.007328</td>\n",
       "      <td>-0.269382</td>\n",
       "      <td>1.000000</td>\n",
       "      <td>0.967034</td>\n",
       "      <td>0.012442</td>\n",
       "    </tr>\n",
       "    <tr>\n",
       "      <th>WeekofYear</th>\n",
       "      <td>0.001421</td>\n",
       "      <td>-0.004880</td>\n",
       "      <td>0.012371</td>\n",
       "      <td>0.041404</td>\n",
       "      <td>0.004792</td>\n",
       "      <td>0.000572</td>\n",
       "      <td>0.071052</td>\n",
       "      <td>-0.001081</td>\n",
       "      <td>-0.000604</td>\n",
       "      <td>0.003791</td>\n",
       "      <td>-0.024516</td>\n",
       "      <td>-0.025304</td>\n",
       "      <td>-0.007098</td>\n",
       "      <td>-0.256619</td>\n",
       "      <td>0.967034</td>\n",
       "      <td>1.000000</td>\n",
       "      <td>0.069624</td>\n",
       "    </tr>\n",
       "    <tr>\n",
       "      <th>DayofMonth</th>\n",
       "      <td>0.000023</td>\n",
       "      <td>0.005136</td>\n",
       "      <td>0.026956</td>\n",
       "      <td>-0.004473</td>\n",
       "      <td>0.033428</td>\n",
       "      <td>-0.108325</td>\n",
       "      <td>0.030538</td>\n",
       "      <td>-0.000020</td>\n",
       "      <td>-0.000006</td>\n",
       "      <td>0.000056</td>\n",
       "      <td>-0.000354</td>\n",
       "      <td>-0.000362</td>\n",
       "      <td>-0.000101</td>\n",
       "      <td>-0.002485</td>\n",
       "      <td>0.012442</td>\n",
       "      <td>0.069624</td>\n",
       "      <td>1.000000</td>\n",
       "    </tr>\n",
       "  </tbody>\n",
       "</table>\n",
       "</div>"
      ],
      "text/plain": [
       "                              Store  DayOfWeek     Sales  Customers      Open  \\\n",
       "Store                      1.000000  -0.000008  0.000067   0.024325 -0.000047   \n",
       "DayOfWeek                 -0.000008   1.000000 -0.543216  -0.386445 -0.528963   \n",
       "Sales                      0.000067  -0.543216  1.000000   0.682308  0.992949   \n",
       "Customers                  0.024325  -0.386445  0.682308   1.000000  0.616768   \n",
       "Open                      -0.000047  -0.528963  0.992949   0.616768  1.000000   \n",
       "Promo                      0.000058  -0.392925  0.337111   0.316169  0.295042   \n",
       "SchoolHoliday              0.000641  -0.205388  0.090409   0.071568  0.086171   \n",
       "CompetitionDistance       -0.052372   0.000005 -0.005584  -0.203230  0.001067   \n",
       "CompetitionOpenSinceMonth -0.050746   0.000006 -0.002831  -0.030954  0.001384   \n",
       "CompetitionOpenSinceYear  -0.004592  -0.000025  0.004975   0.008931  0.002771   \n",
       "Promo2                     0.008488   0.000168 -0.020747  -0.150159 -0.008309   \n",
       "Promo2SinceWeek            0.009865   0.000174  0.008087   0.040531 -0.002430   \n",
       "Promo2SinceYear            0.038928   0.000049 -0.002156   0.028974  0.001637   \n",
       "Year                       0.000290   0.001937  0.003982  -0.001212 -0.001009   \n",
       "MonthofYear                0.001467  -0.005362  0.006712   0.038179 -0.000681   \n",
       "WeekofYear                 0.001421  -0.004880  0.012371   0.041404  0.004792   \n",
       "DayofMonth                 0.000023   0.005136  0.026956  -0.004473  0.033428   \n",
       "\n",
       "                              Promo  SchoolHoliday  CompetitionDistance  \\\n",
       "Store                      0.000058       0.000641            -0.052372   \n",
       "DayOfWeek                 -0.392925      -0.205388             0.000005   \n",
       "Sales                      0.337111       0.090409            -0.005584   \n",
       "Customers                  0.316169       0.071568            -0.203230   \n",
       "Open                       0.295042       0.086171             0.001067   \n",
       "Promo                      1.000000       0.067483            -0.000045   \n",
       "SchoolHoliday              0.067483       1.000000            -0.003331   \n",
       "CompetitionDistance       -0.000045      -0.003331             1.000000   \n",
       "CompetitionOpenSinceMonth -0.000023      -0.000526            -0.033032   \n",
       "CompetitionOpenSinceYear   0.000152       0.001520             0.009431   \n",
       "Promo2                    -0.000983      -0.006909            -0.091907   \n",
       "Promo2SinceWeek           -0.001008      -0.003133            -0.020439   \n",
       "Promo2SinceYear           -0.000283      -0.003682            -0.085927   \n",
       "Year                       0.024300      -0.036535            -0.000222   \n",
       "MonthofYear               -0.011747       0.103282            -0.001116   \n",
       "WeekofYear                 0.000572       0.071052            -0.001081   \n",
       "DayofMonth                -0.108325       0.030538            -0.000020   \n",
       "\n",
       "                           CompetitionOpenSinceMonth  \\\n",
       "Store                                      -0.050746   \n",
       "DayOfWeek                                   0.000006   \n",
       "Sales                                      -0.002831   \n",
       "Customers                                  -0.030954   \n",
       "Open                                        0.001384   \n",
       "Promo                                      -0.000023   \n",
       "SchoolHoliday                              -0.000526   \n",
       "CompetitionDistance                        -0.033032   \n",
       "CompetitionOpenSinceMonth                   1.000000   \n",
       "CompetitionOpenSinceYear                   -0.060594   \n",
       "Promo2                                     -0.009383   \n",
       "Promo2SinceWeek                            -0.036251   \n",
       "Promo2SinceYear                             0.050326   \n",
       "Year                                       -0.000121   \n",
       "MonthofYear                                -0.000624   \n",
       "WeekofYear                                 -0.000604   \n",
       "DayofMonth                                 -0.000006   \n",
       "\n",
       "                           CompetitionOpenSinceYear    Promo2  \\\n",
       "Store                                     -0.004592  0.008488   \n",
       "DayOfWeek                                 -0.000025  0.000168   \n",
       "Sales                                      0.004975 -0.020747   \n",
       "Customers                                  0.008931 -0.150159   \n",
       "Open                                       0.002771 -0.008309   \n",
       "Promo                                      0.000152 -0.000983   \n",
       "SchoolHoliday                              0.001520 -0.006909   \n",
       "CompetitionDistance                        0.009431 -0.091907   \n",
       "CompetitionOpenSinceMonth                 -0.060594 -0.009383   \n",
       "CompetitionOpenSinceYear                   1.000000 -0.077336   \n",
       "Promo2                                    -0.077336  1.000000   \n",
       "Promo2SinceWeek                           -0.079784       NaN   \n",
       "Promo2SinceYear                            0.012155       NaN   \n",
       "Year                                       0.000771 -0.004982   \n",
       "MonthofYear                                0.003916 -0.025323   \n",
       "WeekofYear                                 0.003791 -0.024516   \n",
       "DayofMonth                                 0.000056 -0.000354   \n",
       "\n",
       "                           Promo2SinceWeek  Promo2SinceYear      Year  \\\n",
       "Store                             0.009865         0.038928  0.000290   \n",
       "DayOfWeek                         0.000174         0.000049  0.001937   \n",
       "Sales                             0.008087        -0.002156  0.003982   \n",
       "Customers                         0.040531         0.028974 -0.001212   \n",
       "Open                             -0.002430         0.001637 -0.001009   \n",
       "Promo                            -0.001008        -0.000283  0.024300   \n",
       "SchoolHoliday                    -0.003133        -0.003682 -0.036535   \n",
       "CompetitionDistance              -0.020439        -0.085927 -0.000222   \n",
       "CompetitionOpenSinceMonth        -0.036251         0.050326 -0.000121   \n",
       "CompetitionOpenSinceYear         -0.079784         0.012155  0.000771   \n",
       "Promo2                                 NaN              NaN -0.004982   \n",
       "Promo2SinceWeek                   1.000000        -0.244155 -0.005055   \n",
       "Promo2SinceYear                  -0.244155         1.000000 -0.001418   \n",
       "Year                             -0.005055        -0.001418  1.000000   \n",
       "MonthofYear                      -0.026127        -0.007328 -0.269382   \n",
       "WeekofYear                       -0.025304        -0.007098 -0.256619   \n",
       "DayofMonth                       -0.000362        -0.000101 -0.002485   \n",
       "\n",
       "                           MonthofYear  WeekofYear  DayofMonth  \n",
       "Store                         0.001467    0.001421    0.000023  \n",
       "DayOfWeek                    -0.005362   -0.004880    0.005136  \n",
       "Sales                         0.006712    0.012371    0.026956  \n",
       "Customers                     0.038179    0.041404   -0.004473  \n",
       "Open                         -0.000681    0.004792    0.033428  \n",
       "Promo                        -0.011747    0.000572   -0.108325  \n",
       "SchoolHoliday                 0.103282    0.071052    0.030538  \n",
       "CompetitionDistance          -0.001116   -0.001081   -0.000020  \n",
       "CompetitionOpenSinceMonth    -0.000624   -0.000604   -0.000006  \n",
       "CompetitionOpenSinceYear      0.003916    0.003791    0.000056  \n",
       "Promo2                       -0.025323   -0.024516   -0.000354  \n",
       "Promo2SinceWeek              -0.026127   -0.025304   -0.000362  \n",
       "Promo2SinceYear              -0.007328   -0.007098   -0.000101  \n",
       "Year                         -0.269382   -0.256619   -0.002485  \n",
       "MonthofYear                   1.000000    0.967034    0.012442  \n",
       "WeekofYear                    0.967034    1.000000    0.069624  \n",
       "DayofMonth                    0.012442    0.069624    1.000000  "
      ]
     },
     "execution_count": 41,
     "metadata": {},
     "output_type": "execute_result"
    }
   ],
   "source": [
    "train_raw.corr()"
   ]
  },
  {
   "cell_type": "markdown",
   "metadata": {
    "collapsed": true
   },
   "source": [
    "## 特征预处理\n",
    "结合之前的探索性分析以及特征的相关性，以及后面建模后特征重要性的获取，对各特征作以下处理：  \n",
    "DayOfWeek显著影响销量，保留。Customers测试集中没有，删掉。Date替换为Year，MonthofYear，WeekofYear，DayofMonth。对于Open，经处理之后删掉（原因见下面）。StateHoliday、StoreType、Assortment可以直接替换为数值而不进行独热编码。CompetitionDistance的对数变换（标准化）已经在前面完成。将CompetitionOpenSinceMonth和CompetitionOpenSinceYear结合形成新的变量CompetitionOpenMonth，Promo2SinceWeek和Promo2SinceYea结合形成新变量Promo2sinceMonth。StateHoliday、SchoolHoliday、StoreType、Assortment、Promo2暂时保留（后面依据特征重要性排序进行删减）。"
   ]
  },
  {
   "cell_type": "markdown",
   "metadata": {},
   "source": [
    "新增特征的处理操作参考[这里](https://www.kaggle.com/cast42/xgboost-in-python-with-rmspe-v2/code)"
   ]
  },
  {
   "cell_type": "code",
   "execution_count": 42,
   "metadata": {
    "collapsed": true
   },
   "outputs": [],
   "source": [
    "# 新增特征\n",
    "train_raw['CompetitionOpenMonth'] = 12 * (train_raw.Year - train_raw.CompetitionOpenSinceYear) + (train_raw.MonthofYear - train_raw.CompetitionOpenSinceMonth)\n",
    "train_raw['Promo2sinceMonth'] = 12 * (train_raw.Year - train_raw.Promo2SinceYear) + (train_raw.WeekofYear - train_raw.Promo2SinceWeek) / 4.0\n",
    "test_raw['CompetitionOpenMonth'] = 12 * (test_raw.Year - test_raw.CompetitionOpenSinceYear) + (test_raw.MonthofYear - test_raw.CompetitionOpenSinceMonth)\n",
    "test_raw['Promo2sinceMonth'] = 12 * (test_raw.Year - test_raw.Promo2SinceYear) + (test_raw.WeekofYear - test_raw.Promo2SinceWeek) / 4.0"
   ]
  },
  {
   "cell_type": "markdown",
   "metadata": {},
   "source": [
    "缺失值分析：分析各变量缺失值产生的原因。  \n",
    "Open的缺失值前面已处理；\n",
    "Promo2SinceWeek和Promo2SinceYear的缺失值，观察可知与变量Promo2对应，Promo2取0时即为缺失值，因此可以将其缺失值填充为0。\n",
    "CompetitionOpenSinceMonth和CompetitionOpenSinceYear的缺失值，则是另一种情况，CompetitionDistance取值不为0时仍然缺失，说明是确实无数据，所以暂时不进行填充。"
   ]
  },
  {
   "cell_type": "code",
   "execution_count": 43,
   "metadata": {
    "collapsed": true
   },
   "outputs": [],
   "source": [
    "# 对Promo2sinceMonth缺失值进行填充\n",
    "train_raw['Promo2sinceMonth'] = train_raw['Promo2sinceMonth'].fillna(0)\n",
    "test_raw['Promo2sinceMonth'] = test_raw['Promo2sinceMonth'].fillna(0)"
   ]
  },
  {
   "cell_type": "code",
   "execution_count": null,
   "metadata": {
    "collapsed": true
   },
   "outputs": [],
   "source": [
    "# 特征缩放、归一化、标准化\n",
    "# 前面已处理"
   ]
  },
  {
   "cell_type": "code",
   "execution_count": null,
   "metadata": {
    "collapsed": true
   },
   "outputs": [],
   "source": [
    "# 异常值处理\n",
    "# 暂不处理"
   ]
  },
  {
   "cell_type": "code",
   "execution_count": 44,
   "metadata": {
    "collapsed": true
   },
   "outputs": [],
   "source": [
    "# 独热编码\n",
    "# 考虑数据规模较大，不采用生成dummies变量的方式\n",
    "train_raw['StateHoliday'].replace(['0','a','b','c'],[0,1,2,3],inplace=True)\n",
    "test_raw['StateHoliday'].replace(['0','a','b','c'],[0,1,2,3],inplace=True)\n",
    "train_raw['StoreType'].replace(['a','b','c','d'],[0,1,2,3],inplace=True)\n",
    "test_raw['StoreType'].replace(['a','b','c','d'],[0,1,2,3],inplace=True)\n",
    "train_raw['Assortment'].replace(['a','b','c'],[0,1,2],inplace=True)\n",
    "test_raw['Assortment'].replace(['a','b','c'],[0,1,2],inplace=True)"
   ]
  },
  {
   "cell_type": "code",
   "execution_count": null,
   "metadata": {
    "collapsed": true
   },
   "outputs": [],
   "source": [
    "# 特征工程：如特征转换\n",
    "# 暂不使用"
   ]
  },
  {
   "cell_type": "code",
   "execution_count": 45,
   "metadata": {
    "collapsed": true
   },
   "outputs": [],
   "source": [
    "# 将训练集中关门的删掉。\n",
    "train = train_raw[train_raw['Open']==1]\n",
    "# 将测试集中关门的id提取出来，保存。(最后提交结果时，这部分id对应的销量预测为0)\n",
    "closed_ids = test_raw['Id'][test_raw['Open']==0].values\n",
    "# 将测试集中开门的id提取出来，保存。(最后提交结果时，这部分id对应的销量预测为模型的预测值)\n",
    "opened_ids = {}\n",
    "for i in range(1,1116):\n",
    "    opened_ids[i] = test_raw['Id'][test_raw['Open']==1][test_raw['Store']==i].values\n",
    "# 将训练集中关门的删掉。\n",
    "test = test_raw[test_raw['Open']==1]"
   ]
  },
  {
   "cell_type": "code",
   "execution_count": 46,
   "metadata": {
    "collapsed": true
   },
   "outputs": [],
   "source": [
    "# 切分数据集、提取特征和标签\n",
    "def subset(data, number):\n",
    "    child = data.loc[train['Store']==number]\n",
    "    train_labels = child['Sales']\n",
    "    train_features = child.drop(child.columns[[0,2,3,4,5,7,8,9,10,11,12,13,14,15,16,17,23]], axis=1) \n",
    "    return train_features, train_labels       "
   ]
  },
  {
   "cell_type": "markdown",
   "metadata": {},
   "source": [
    "## 模型构建与优化\n",
    "参考纳米学位中寻找捐献者项目。"
   ]
  },
  {
   "cell_type": "code",
   "execution_count": 47,
   "metadata": {
    "collapsed": true
   },
   "outputs": [],
   "source": [
    "# 设定评估指标\n",
    "def metric_RMSPE(y_true, y_predict):\n",
    "    y1 = np.array(y_predict)\n",
    "    y2 = np.array(y_true)\n",
    "    n = len(y_true)\n",
    "    temp = np.square((y1 - y2)/y2).sum()\n",
    "    score = np.sqrt(temp/n)\n",
    "    return score"
   ]
  },
  {
   "cell_type": "code",
   "execution_count": 48,
   "metadata": {
    "collapsed": true
   },
   "outputs": [],
   "source": [
    "# 构建模型\n",
    "# XGBoost\n",
    "def model_xgb(x_train, y_train):\n",
    "    reg = XGBRegressor(learning_rate=0.1, min_child_weight=1, n_estimators=50, max_depth=3, objective='reg:linear', seed=10)      \n",
    "    # 获得参数\n",
    "    params = reg.get_xgb_params()\n",
    "    # 对输入进行格式转换\n",
    "    dtrain = xgb.DMatrix(x_train, y_train)\n",
    "    # xgb的交叉验证\n",
    "    cvresult = xgb.cv(params, dtrain, num_boost_round=reg.get_params()['n_estimators'], nfold=5)\n",
    "    reg.set_params(n_estimators=cvresult.shape[0])\n",
    "    # 网格调参\n",
    "    params_set = {'learning_rate':(0.1,0.3),'min_child_weight':(1,2,3),'max_depth':(4,5,6)}\n",
    "    grid = GridSearchCV(reg, params_set, cv=5)\n",
    "    # 输入数据，进行训练\n",
    "    grid.fit(x_train, y_train)\n",
    "    # 获得最优模型\n",
    "    best_reg = grid.best_estimator_     \n",
    "    return best_reg"
   ]
  },
  {
   "cell_type": "markdown",
   "metadata": {},
   "source": [
    "在样本集上进行调参"
   ]
  },
  {
   "cell_type": "code",
   "execution_count": 49,
   "metadata": {},
   "outputs": [
    {
     "data": {
      "text/plain": [
       "0.10325734882553594"
      ]
     },
     "execution_count": 49,
     "metadata": {},
     "output_type": "execute_result"
    }
   ],
   "source": [
    "# 以Store1作为样本\n",
    "features_sample,labels_sample = subset(train,1)\n",
    "# 在样本上切分验证集\n",
    "from sklearn.model_selection import train_test_split\n",
    "X_train_s,X_val_s,y_train_s,y_val_s = train_test_split(features_sample,labels_sample,test_size=0.2,random_state=0)\n",
    "# 用模型预测结果\n",
    "pred_s = model_xgb(X_train_s, y_train_s).predict(X_val_s)\n",
    "# 评估误差\n",
    "metric_RMSPE(np.expm1(y_val_s), np.expm1(pred_s))"
   ]
  },
  {
   "cell_type": "code",
   "execution_count": 70,
   "metadata": {},
   "outputs": [
    {
     "data": {
      "text/plain": [
       "<matplotlib.legend.Legend at 0x133486d8>"
      ]
     },
     "execution_count": 70,
     "metadata": {},
     "output_type": "execute_result"
    },
    {
     "data": {
      "image/png": "[encoded data removed]",
      "text/plain": [
       "<matplotlib.figure.Figure at 0x12b26240>"
      ]
     },
     "metadata": {},
     "output_type": "display_data"
    }
   ],
   "source": [
    "# 结果可视化（在样本上）\n",
    "plt.figure(figsize=(12,6))\n",
    "x = range(1,158)\n",
    "plt.plot(x, np.expm1(y_val_s), label='Real Sales')\n",
    "plt.plot(x, np.expm1(pred_s), label='Pred Sales')\n",
    "plt.title('Real & Pred Sales')\n",
    "plt.xlabel('index')\n",
    "plt.ylabel('Sales')\n",
    "plt.legend()"
   ]
  },
  {
   "cell_type": "code",
   "execution_count": 78,
   "metadata": {},
   "outputs": [
    {
     "data": {
      "text/plain": [
       "{'CompetitionOpenMonth': 85,\n",
       " 'DayOfWeek': 90,\n",
       " 'DayofMonth': 171,\n",
       " 'MonthofYear': 52,\n",
       " 'Promo': 31,\n",
       " 'WeekofYear': 102,\n",
       " 'Year': 13}"
      ]
     },
     "execution_count": 78,
     "metadata": {},
     "output_type": "execute_result"
    }
   ],
   "source": [
    "# 特征重要性查看\n",
    "importances = model_xgb(X_train_s, y_train_s).booster().get_fscore()\n",
    "importances"
   ]
  },
  {
   "cell_type": "code",
   "execution_count": 79,
   "metadata": {},
   "outputs": [
    {
     "data": {
      "text/plain": [
       "<matplotlib.text.Text at 0x2ad43978>"
      ]
     },
     "execution_count": 79,
     "metadata": {},
     "output_type": "execute_result"
    },
    {
     "data": {
      "image/png": "[encoded data removed]",
      "text/plain": [
       "<matplotlib.figure.Figure at 0x300e0390>"
      ]
     },
     "metadata": {},
     "output_type": "display_data"
    }
   ],
   "source": [
    "# 特征重要性的可视化\n",
    "importances_v = sorted(importances.items(), key=operator.itemgetter(1))\n",
    "df = pd.DataFrame(importances_v, columns=['feature', 'fscore'])\n",
    "df['fscore'] = df['fscore'] / df['fscore'].sum()\n",
    "featp = df.plot(kind='barh', x='feature', y='fscore', legend=False, figsize=(4, 8))\n",
    "plt.title('Feature Importance')\n",
    "plt.xlabel('relative importance')"
   ]
  },
  {
   "cell_type": "markdown",
   "metadata": {},
   "source": [
    "特征重要性可视化部分参考[这里](https://www.kaggle.com/cast42/xgboost-in-python-with-rmspe-v2/code)"
   ]
  },
  {
   "cell_type": "markdown",
   "metadata": {},
   "source": [
    "## 在测试集上进行预测"
   ]
  },
  {
   "cell_type": "code",
   "execution_count": 37,
   "metadata": {
    "collapsed": true
   },
   "outputs": [],
   "source": [
    "submission = pd.DataFrame()\n",
    "submission['Id'] = data3['Id']\n",
    "sales = pd.Series()\n",
    "for i in range(1,1116):\n",
    "    X_train_i,y_train_i = subset(train, i)\n",
    "    test_i = test.loc[test['Store']==i]\n",
    "    X_test_i = test_i.drop(test_i.columns[[0,1,3,4,6,7,8,9,10,11,12,13,14,15,16,22]],axis=1)\n",
    "    pred_i = model_xgb(X_train_i, y_train_i).predict( X_test_i)\n",
    "    sales = sales.append(pd.Series(np.expm1(pred_i), index=opened_ids[i]-1))\n",
    "sales = sales.append(pd.Series(0, index=closed_ids-1))\n",
    "submission['Sales'] = sales\n",
    "# 导出csv文件\n",
    "submission.to_csv('./data/submission.csv', index=False)"
   ]
  }
 ],
 "metadata": {
  "kernelspec": {
   "display_name": "Python 2",
   "language": "python",
   "name": "python2"
  },
  "language_info": {
   "codemirror_mode": {
    "name": "ipython",
    "version": 2
   },
   "file_extension": ".py",
   "mimetype": "text/x-python",
   "name": "python",
   "nbconvert_exporter": "python",
   "pygments_lexer": "ipython2",
   "version": "2.7.13"
  }
 },
 "nbformat": 4,
 "nbformat_minor": 2
}
